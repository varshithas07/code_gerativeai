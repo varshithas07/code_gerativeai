{
 "cells": [
  {
   "cell_type": "code",
   "execution_count": 6,
   "id": "552d5e32",
   "metadata": {},
   "outputs": [],
   "source": [
    "import os\n",
    "import tempfile\n",
    "from langchain.llms.openai import OpenAI\n",
    "from langchain.vectorstores.chroma import Chroma\n",
    "from langchain.embeddings.openai import OpenAIEmbeddings\n",
    "from langchain.chains.summarize import load_summarize_chain\n",
    "from langchain.document_loaders import PyPDFLoader"
   ]
  },
  {
   "cell_type": "code",
   "execution_count": 7,
   "id": "15cb0ab3",
   "metadata": {},
   "outputs": [],
   "source": [
    "loader = PyPDFLoader('./Tax-Transparency-Report.pdf')\n",
    "pages = loader.load_and_split()"
   ]
  },
  {
   "cell_type": "code",
   "execution_count": 20,
   "id": "8c07b346",
   "metadata": {},
   "outputs": [
    {
     "name": "stdout",
     "output_type": "stream",
     "text": [
      "[Document(page_content='December 2022Tax Transparency Report \\nfor year ending March 2022Tax Transparency Report \\nfor year ending March 2022', metadata={'source': './Tax-Transparency-Report.pdf', 'page': 0}), Document(page_content='Table of contents\\n19\\nGlossary1\\nBackground5\\nMessage from CFO6\\nJSW Tax Team\\n7\\nOur Approach \\nTowards Tax10\\nContribution to the \\nExchequer13\\nTax Practice\\n15\\nEngaging with Tax \\nAuthorities and \\nRegulators16\\nBasis of \\nPreparation17\\nIndependent \\nAuditor’s Report \\non Global Tax and \\nOther ContributionPages', metadata={'source': './Tax-Transparency-Report.pdf', 'page': 1}), Document(page_content='Background\\nSustainability in Business Operations\\nJSW Steel Limited (‘JSW’ or ‘the Company’), the flagship \\ncompany of the diversified USD 22 billion JSW Group \\n(or ‘Group’), is an integrated manufacturer of a diverse \\nrange of steel products and is India’s leading crude steel \\nmanufacturer. JSW is one of the world’s most efficient and \\nIndia’s leading integrated steel makers. \\nJSW Group’s innovative and sustainable products, services \\nand ideas cater to the core sectors of Steel, Energy, Cement \\nand Infrastructure, apart from its interests in philanthropy, \\nsports, realty and ventures. The Group continues to strive \\nfor excellence with its strength, differentiated product mix, \\nstate-of-the-art technology, excellence in execution and \\nfocus on sustainability.\\nJSW Steel’s integrated operations with industry-leading \\ncapacity and scale, wide portfolio of products that caters \\nto a diverse customer base across 100 countries and its \\ndisciplined execution, positions it well to benefit from the \\nglobal steel super cycle and increasing domestic demand. \\nThe capacity expansion plans, upon completion, will not \\nonly consolidate its leadership in the Indian steel industry, \\nbut will also become immediately value accretive. JSW’s \\ncontinued focus on cost leadership, growing share of \\nhigh-margin value-added products in the sales mix, and \\nintegration of ESG factors into growth strategies will \\nenable it to continue creating sustainable value for all the \\nshareholders, as well as other stakeholders.\\nJSW aims to produce superior-quality products while \\nkeeping the health of the environment and society in \\nmind, promoting circularity in the operations and fostering \\ngrowth and betterment for communities. JSW is committed \\nto deep de-carbonisation and is actively pursuing a climate \\nchange goal. This has been induced and carried forward \\nby our strong governance policies and further inculcated \\ninto our culture by our top management, who steer the \\njourney of the Company.JSW is governed by a team of experienced and versatile \\nprofessionals and visionaries who take decisions keeping \\nthe best interests of the Company and its stakeholders \\nin mind. The Board and management team have diverse \\nbackgrounds and specialisations which enables them \\nto provide different perspectives while decision-making. \\nThe efficient governance has been the key driving force \\nin achieving our strategic focus of increasing profits, \\nmaximising efficiency and mainstreaming sustainability. \\nThe core values and thought leadership has percolated to \\nevery stage of its organisation.\\nAt JSW Steel, we are on our continuous journey of growth \\nby constantly stepping up our operational excellence. \\nWe are progressing across markets with innovation, \\ndigitalisation and sustainability as our key anchors. With \\nefficient integrated operations and a clear vision for the \\nfuture, we are executing our strategic growth plan in line \\nwith India’s growing steel demand. Our wide spectrum \\nof innovation, robust ESG commitments and a drive to \\nbe #BetterEveryday, enable us to consistently create \\nresponsible value, for everyone.\\n` 1,77,098 crores\\nOverall market capitalisation  \\n(March 31, 2022)\\n100+ countries\\nDiversified customer base spread\\nBhushan Power & Steel and \\nMonnet Ispat business\\nIntegration\\n1', metadata={'source': './Tax-Transparency-Report.pdf', 'page': 2}), Document(page_content='Presence in India and Abroad\\nJSW has strategically located manufacturing units across \\ngeographies (India, USA and Italy) with distinct competitive \\nadvantages. It also has its footprints across continents \\nin various countries such as the UK, Chile, Mozambique, \\nNetherlands and other locations. \\nThe Company has the world’s 6th largest steel plant at \\nVijayanagar. The Company is an integrated manufacturer \\nof diverse range of steel products with its manufacturing \\nfacilities located at Vijayanagar Works in Karnataka, Dolvi \\nWorks in Maharashtra and Salem works in Tamil Nadu. \\nThe Company also has a Plate and Coil mill Division in Anjar, Gujarat. The Company has entered into long term \\nlease arrangements of iron ore mines located at Odisha \\nand Karnataka. \\nThe Company has a total of 45 direct and indirect \\nsubsidiaries and 11 joint ventures as of March 2022. The \\nprimary business activities and key highlights of each of \\nour subsidiaries and joint ventures are disclosed under \\nPage 100 - 104 and Page 405 - 410 of the Annual report. The \\nCompany, along with its domestic as well as international \\nsubsidiaries, are referred to as JSW Steel Group for this Tax \\nTransparency Report.\\n•  Domestic crude steel capacity (including BPSL \\nand JSW Ispat Special Products Ltd.) of 27MTPA\\n•  Karnataka iron ore reserves – 216 MnT\\n•  Odisha iron ore reserves – 1,135 MnT\\n•  31.62 MnT captive iron ore production\\n•  Captive iron ore mines - 13•  Ohio – Hot rolling mill with a 3 MNTPA capacity. \\nPartially backward integrated with a 1.5 MNTPA \\nElectric Arc Furnace.\\n•  Baytown – 1.2 MNTPA plate mill and 0.55 MNTPA \\npipe mill\\n•  Piombino – 1.3 MNTPA  finishing capacity\\n•  Key products - Rails, wire rods, bars and \\ngrinding ballsIndia\\nItalyUSA\\n2\\nTAX TRANSPARENCY REPORT\\nJSW STEEL LIMITED   |  2021-22', metadata={'source': './Tax-Transparency-Report.pdf', 'page': 3}), Document(page_content='Financial Performance\\nThe consolidated turnover of JSW Steel Group for the year \\nending March 2022 is ` 1,43,829 crores. Out of this, JSW \\nSteel contributes 62.96%, with a turnover of `  90,550 crores \\n(excluding sales to related parties). The three integrated steel plants (ISPs) at Vijayanagar, Dolvi and Salem continue \\nto be the mainstay of JSW Steel. At JSW Steel, the export \\nrevenue stands at `  24,699 crores which is 21.12% of Total \\nRevenue of JSW Steel.\\nThe relevant financial parameters of JSW Steel Group across key geographies are tabulated below:\\nCountries India USA Italy Others\\nPrimary Activities Integrated manufacturing \\nof diverse range of steel \\nproducts Integrated manufacturing \\nof diverse range of steel \\nproducts Integrated manufacturing \\nof diverse range of steel \\nproducts Mining related operations\\nNumber of employees 22,907 734 1662 4\\nTurnover \\n(Sale of products)\\n(Excluding sales to related party)` 1,33,889 crores\\n[93% of total turnover]` 7,070 crores\\n[5% of total turnover]` 2,869 crores\\n[2% of total turnover]0\\nProfit (Loss) before tax* ` 29,236 crores ` 1,451 crores (` 85 crores) (` 204 crores)\\nIncome tax expense \\n(Current tax + Deferred tax)*` 8,681 crores ` 24 crores ` 9 crores (` 1 crore)\\nCurrent tax expenses as per \\nprofit and loss statement` 4,983 crores ` 27 crores - ` 0.05 crores\\nIncome tax paid ` 4,916 crores ` 15 crores (` 2 crores) ` 0.09 crores\\n*Reported on the basis of Form AOC-1 prepared in accordance with the provisions of Section 129(3) of the Companies Act, 2013.\\n18.18 MnT\\nConsolidated Saleable Steel Sales\\n` 20,938 crores\\nConsolidated Annual Net Profit After Tax` 1,46,371 crores\\nConsolidated Annual Revenue (including other \\noperating income)\\n` 39,007 crores\\nConsolidated Annual Operating EBIDTA\\n3', metadata={'source': './Tax-Transparency-Report.pdf', 'page': 4}), Document(page_content='Objective of this Report\\nThe nexus between tax and our society runs both \\ndeep and strong. Tax has pervaded all walks of society \\nas consumers, workers and stakeholders are keen to \\nunderstand the tangible fiscal contribution made by the \\nbusinesses they interact with in this ecosystem. This \\ninput goes into the choices they make. The spirit of the tax \\ncomponent pertaining to ESG is governed by a penchant \\nfor a progressively fair share of taxes rather than merely \\nbeing paying taxes that fall due under the current fiscal \\nframework. The needle has evidently moved from minimal \\ntax to fair tax.\\nJSW Steel Group believes that as a corporate citizen it has \\nresponsibilities towards the society. These responsibilities \\ninclude constantly endeavoring to make the world a better \\nplace to live. We aim to achieve these by focusing on our \\nESG goals and objectives. JSW Steel Group is a pioneer \\nin persistently taking steps towards these ESG goals and \\nobjectives. We have embedded tax transparency as one of \\nthe significant ESG goal and towards this, we are releasing \\nour first Tax Transparency Report (Report) for FY 2021-22. \\nTax transparency is increasingly seen as a method of \\ndemonstrating contribution to society and sustainability. \\nBy way of this Report, we aim to transparently share with our stakeholders, the key aspects of our tax affairs and \\nour contribution by way of taxes to the exchequer. At \\nJSW Steel Group, we are sticklers for transparency and \\nas such a complete disclosure to all our stakeholders is \\nof paramount importance. Our aim, through this Report, \\nis to transparently disclose to our stakeholders our tax \\nprinciples based on which tax laws are complied in various \\njurisdictions where we operate. We have also captured \\ntotal tax contributions made by the JSW Group in India as \\nwell as the overseas jurisdictions. We have also captured \\ntax governance framework which lays down the tax policy \\nas well as other internal controls followed by the JSW Group \\nwhile meeting the tax obligations.\\nThis is the first Report released by the Company to reflect \\nits commitment towards transparent disclosure of our tax \\nframework. To the extent possible, this Report is prepared \\nconsidering the guidance provided by Global Sustainability \\nStandards Board through GRI 2071.\\nWe invite the views, concerns and feedback from our \\nstakeholders (i.e., consumers, vendors, employees and \\nother workers, governments, local communities, non-\\ngovernmental organisations, shareholders and other \\ninvestors) on our tax strategy/tax practices. \\n1This Standard is part of the set of Global Reporting Initiative (GRI) Sustainability Reporting Standards (GRI Standards). The Standards are designed to be \\nused by organisations to report about their impacts on the economy, the environment, and society.\\n4\\nTAX TRANSPARENCY REPORT\\nJSW STEEL LIMITED   |  2021-22', metadata={'source': './Tax-Transparency-Report.pdf', 'page': 5}), Document(page_content='Message from CFO\\nAs we all know, taxes are a key pillar for financing \\nsustainable, equitable, stable and progressive world \\neconomic order. It is a key source of revenue for any \\ngovernment and fuels economic growth and sustainability \\nfor the nation’s leading to prosperity for the citizens.\\nCovid-19 pandemic has left an almost unsurmountable \\nand unruly impact on the global economy. The lockdowns \\nled to massive loss of livelihood, employment as well as \\ncommercial output, adversely impacting the revenue \\nflow for the governments throughout the world. With \\nthis perspective, the collection and payment of fair and \\njust taxes by the corporate citizens is a bare minimum \\nrequirement and we at JSW are committed to ensure \\ntransparent and progressive contribution to this socio-\\neconomic objective. \\nAs a responsible business house, with global footprint in \\n100+ countries, employing more than 23,000 people, we \\npursue a holistic tax policy that focuses on paying fair taxes in each of the jurisdictions we operate in. We strive \\nto be transparent to our stakeholders on our approach \\ntowards tax and compliance with regulatory requirements \\nin the countries of our operation. We believe in sharing the \\ntax strategy followed by the Company, in order to build and \\nmaintain trust and credibility with our internal as well as \\nexternal stakeholders. \\nIn line with the above, we are glad to present our first Tax \\nTransparency Report for the year ending March 2022. The \\nReport has been prepared taking into consideration the \\nguidance provided by Global Sustainability Standards \\nBoard through GRI 207. The Report covers the tax practices \\nfollowed by us and the way in which we deliver our \\nresponsibilities towards the tax compliance and disclosure \\nas required by the local laws of all the countries in which \\nwe operate. We believe that this Report will serve as a \\nmedium to understand the overall tax framework adopted \\nby the group as well as tax contributions (as a part of the \\neconomic contributions) made by us towards the society.\\n5', metadata={'source': './Tax-Transparency-Report.pdf', 'page': 6}), Document(page_content='JSW Tax Team\\nWe have a robust team of tax professionals with rich \\nexperience and qualifications in the specialised areas of \\ntaxation. Our tax teams supplemented by our external tax \\nadvisors, collectively, have a comprehensive knowledge \\nof the tax laws and regulations of all the countries we \\noperate in. Our in-house tax team comprises of various \\nsub divisions who specialise in their respective areas such \\nas Income tax, GST, Customs and other direct and indirect \\ntaxes. Where considered necessary the tax team is \\nsupplemented by external tax advisors and legal counsels.The in-house tax team periodically reviews the tax \\npositions adopted by the Company in light of ongoing tax \\ndevelopments within and outside the organisation. Any \\nsignificant tax development relevant to the JSW Steel Group \\nbusiness with its impact on the overall Group Tax Strategy \\nis brought to the notice of the Financial Controller, CFO and \\nAudit Committee. Further, any key tax matters where tax \\npositions adopted by the Company are challenged by the \\ntax authorities that may have material financial impact on \\nour Company under tax exposure analysis are brought to \\nthe notice of the Audit Committee on quarterly basis.\\nSimilar team structure and governance framework is followed across all the key domestic and overseas JSW Steel \\nGroup entities and plant locations.Chief Financial Officer\\n   GBS\\nCOE\\nDirect Tax Division Head\\nSpecialised TeamIndirect Tax Division Head\\nSpecialised TeamFinancial Controller\\n6\\nTAX TRANSPARENCY REPORT\\nJSW STEEL LIMITED   |  2021-22', metadata={'source': './Tax-Transparency-Report.pdf', 'page': 7}), Document(page_content='Our Approach Towards Tax\\nBroad Approach\\nJSW Steel Group is sincerely committed to adherence to \\nthe laws and regulations of the countries in which we \\noperate. We strictly comply with the applicable laws and \\nregulations of each country in letter and spirit.\\nWe have an in-house team of competent tax professionals \\nwho monitor the tax positions adopted by the JSW Steel \\nGroup entities. The Company has internal tax framework \\nwhich mandates independent evaluation on tax matters \\nfrom technical and legal perspective coupled with analysing \\nrisk assessment. This tax framework is consistently \\nfollowed on all tax matters including matters related to \\ntransfer pricing, local income tax, cross-border taxation \\nand indirect tax matters. While adopting tax position on any \\nunique matter involving contentious issues, the Company \\nseeks external guidance and the tax position adopted are \\nbacked by the opinions of expert professionals and tax \\nconsultants having subject matter expertise. In case of \\nany divergent views on a particular transaction, we consult \\nsenior legal counsels before taking a tax position. Open \\ntax matters are reviewed periodically and presented on a \\nquarterly basis to Audit Committee.\\nWhile adopting a tax position, a detailed evaluation is done \\non “more likely than not” chances of success before the \\nappellate forums. In case any new tax position is agreed \\nupon or any existing position is revised, a detailed internal \\nanalysis backed with technical propositions is done and \\npresented to the Financial Controller and/ or CFO of the \\nCompany. After their agreement, such tax position is \\nimplemented by the Company. The key tax positions are \\nalso discussed with the Board Committee on Finance. \\nOur tax teams are carefully monitoring the developments \\naround new taxes in key jurisdictions where we have \\ncustomers and vendors. The tax team keeps providing \\nperiodical updates to the Financial Controller and/ or CFO \\nand takes guidance on complex issues.\\nWe follow the OECD framework along with the domestic \\nlaws relevant to transfer pricing of goods and services \\namong our group entities. We do not use jurisdictions \\nclassified as tax havens or low tax jurisdictions for \\ndiverting profits. If as part of any acquisition there are \\nentities in low tax jurisdictions, we are in the process \\nof streamlining the overall historically acquired holding \\nstructure from tax perspective. Through our group tax policy, we commit to abide by the \\nfollowing aspects:\\n•  We endeavor to comply with the letter and spirit of the \\ntax laws and regulations of the countries in which we \\noperate in.\\n•  We have a strict resistance against shifting profits to \\nlow tax jurisdictions.\\n•  We refrain from creating cross border tax structures \\nwithout any commercial substance.\\n•  We undertake related party transactions, both \\ndomestic and international, on arm’s length basis.\\n•  We do not use jurisdictions classified as tax havens \\nfor tax avoidance.\\nAs a part of the Company’s tax risk management procedure:\\n•  Our tax team remains abreast of developments in the \\ntax regulations and jurisprudence relevant to the tax \\nmatters of the Company. \\n•  In case any change in a material key predetermined tax \\nposition is anticipated on account of developments in \\nlaw or jurisprudence, the tax position is re-visited by \\nthe tax team \\n•  Consultations are sought from external tax advisors \\nif any change in tax position is envisaged\\n•  If necessary, the tax positions are revised after \\ndeliberation with the Board Committee on Finance. \\nFor instance, the Government of India had, vide Finance \\nAct 2022, introduced new provisions for withholding of \\ntax under section 194R of the Income-tax Act, 1961 with \\neffect from  July 01, 2022. As per the said provisions, \\nthe Company is liable to withhold tax in case any benefit \\nor perquisite is provided by the Company in the course \\nof its business. This amendment to the law potentially', metadata={'source': './Tax-Transparency-Report.pdf', 'page': 8}), Document(page_content='the Company is liable to withhold tax in case any benefit \\nor perquisite is provided by the Company in the course \\nof its business. This amendment to the law potentially \\nincreased the tax compliance and in some cases the tax \\ncost of the Company. As a proactive response, in-line \\nwith the Company’s tax risk management procedures, \\nthe tax team critically analysed the applicability of the \\nprovisions to various trade practices of the Company in \\ntandem with the external tax advisors and consulted the \\nbusiness development team of the Company on the steps \\nand checks to be ensured for due compliance with the \\nnew provisions. \\n7', metadata={'source': './Tax-Transparency-Report.pdf', 'page': 8}), Document(page_content='Principal driving the overall \\ntax functions\\nTotal tax contribution to \\nthe exchequer\\nDisclosures to be made from \\ntax perspective for benefit of all \\nthe stakeholderAttitude towards tax planning\\nTax incentives and evaluate \\neligibility to avail it\\nRepresentation to be made to the \\ngovernment authorities through \\ntrade associations or otherwiseTax practices including \\ntax compliances\\nRelationship with the \\ntax authoritiesThe Company adopts a proactive action in case of any change in law or judicial views impact their predetermined tax \\npositions causing a tax risk to the Company. Such potential tax risks are identified in advance by the tax team and \\nacted upon in advance so as to mitigate such risks for the Company.\\nThe head of tax teams are responsible for formulating and updating the tax positions which are reviewed by the Financial \\nController and overseen by CFO of the Company.\\nOur tax team looks after the following broad aspects of the business from tax perspective:\\n8\\nTAX TRANSPARENCY REPORT\\nJSW STEEL LIMITED   |  2021-22', metadata={'source': './Tax-Transparency-Report.pdf', 'page': 9}), Document(page_content='To maintain integrity, diligence \\nand transparency while \\nundertaking various compliances \\nand reportings\\nStrict resistance against any form \\nof tax evasionTo follow a zero-tolerance \\napproach towards any delay/lapse \\nin tax compliances\\nHave our business constituents \\nfollow our standards of tax \\npractices in dealing with us\\nTo make true and fair disclosure of \\nall the pending tax matters in the \\nfinancial statements either as a \\ntax provision or contingent liabilityTo maintain a respectful and \\nprofessional demeanor and \\nmaintain a transparent and \\nhonest relationship with the \\nGovernment authoritiesTo abide by the spirit of the \\nlegislation and to avail only the \\nlegitimate intended tax benefits \\nallowed under the tax laws \\nand policies\\nTo promptly respond to the \\nnotices received from various \\ntax authorities and to take action \\nwherever requiredTax Disclosures\\nWe strive to comply with all the tax and regulatory \\nrequirements including transparent disclosure of tax \\nmatters where tax authorities have enquired into/ \\nchallenged the positions taken by the Company. \\nAccordingly, we categorise all the open tax matters in three \\nbuckets based on the likelihood of an adverse outcome viz. \\n“Probable, Possible or Remote”.\\nIn relation to the open tax matters where tax positions \\nadopted by the Company are challenged, the Company \\nkeeps performing periodic assessment. Where there is a \\npossibility that the tax position adopted by the Company \\nmay not be accepted at the highest appellate level on \\naccount of aspects like alternative interpretation of law, \\namendments to the law, new jurisprudence etc. the \\nCompany makes appropriate tax provision for the same.On the other hand, where the open tax matters are \\nuncertain of the final outcome at the highest appellate \\nlevel the Company evaluates the probability of adverse \\ntax outcome and report it as a contingent liability. Neither \\na provision is made nor a reporting is done as a contingent \\nliability, in relation to the matter where an adverse outcome \\nis “Remote”. \\nOur above tax exposure analysis is reviewed by the \\nFinancial Controller and overseen by the CFO of the \\ncompany and presented before the Audit Committee. \\nApart from the above refer disclosure, the outstanding tax \\nliabilities on account of open tax matters are separately \\nreported in the CARO Report by the statutory auditor of \\nthe Company and contingent liabilities in Page 180 of the \\nAnnual report of the company.\\nTax Principles\\nAt JSW Steel Group, we abide by the following tax principles which drive our overall tax functions:\\n9', metadata={'source': './Tax-Transparency-Report.pdf', 'page': 10}), Document(page_content='Contribution to the Exchequer\\nTotal Tax Contribution\\nTax contributions in India\\nWe are cognisant of the role played by Corporates in the \\noverall development of the economy. Tax revenues, being \\nthe largest contributor to the overall collections of the \\nCentral and State Government, enables them to undertake \\nvarious welfare schemes, development projects and \\nmeet commitments for sustainable development goals, \\nclimate and other protocols as a progressive country. \\nWe feel proud in having participated in these efforts by contributing ` 38,293 crores i.e. 129% of the consolidated \\nprofit before tax of the Group in India, to the exchequer in \\nthe form of various taxes and levies in India. We have full \\nregard to our role as a taxpayer and also as an agent of \\nthe Government at the time of deducting/ collecting tax \\nat source.\\nThe contribution to the exchequer of JSW Steel on \\nstandalone basis for the FY 2021-22 is depicted below \\n(on cash basis):\\n* Tax Collected in relation to TCS, VAT and Professional Tax is ` 111 crores,\\n* Tax Borne in relation to Electricity Duty and other Miscellaneous taxes is ` 457 crores\\n* Other includes CSR of ` 217 crores Tax Collected ( ` 13,022)\\n Other ( ` 15,528)\\n Tax Borne ( ` 9,743)India ( ` crores)\\nOverseas tax contributions\\nThe Company, as a world citizen, plays a proud role in \\ncontributing to the exchequer of the world economies \\nthrough its various overseas subsidiaries primary being \\nItaly and USA. The Company aims to provide returns to the \\nsocieties of these countries who have helped JSW Group \\nset up base and earn revenues therefrom. Over the time, \\nthe growth and expansion of our overseas subsidiaries \\nshall lead to an increased contribution of JSW Group to the economies of these countries in form of tax revenues. \\nAdditionally, like India, the overseas subsidiaries of the \\nCompany also act as an agent of the government in \\ndeducting/ collecting taxes at source while undertaking \\nthe business transactions. We have contributed `  506 \\ncrores i.e., 2% of the consolidated profit before tax of the \\nGroup outside India, to the exchequer in the form of various \\ntaxes and levies outside India.Bid Premium\\n  12,304 Custom duty 4,370\\nIncome Tax \\n4,916 \\nTax Borne  \\n(` 9,743)\\nTax Collected \\n(` 13,022)` 38,293\\nGST 11,089TDS  \\n1,822\\nRoyalty 3,007Other \\n (` 15,528)\\n10\\nTAX TRANSPARENCY REPORT\\nJSW STEEL LIMITED   |  2021-22', metadata={'source': './Tax-Transparency-Report.pdf', 'page': 11}), Document(page_content='Tax Collected ( ` 206)\\n Tax Borne ( ` 81)\\n Tax Collected ( ` 0.12)\\n Tax Borne ( ` 0.13) Tax Collected ( ` 207)\\n Tax Borne ( ` 12)USA (in ` crores)\\nOthers (in ` crores)Italy (in ` crores)\\n* USA Pie-Diagram:\\nTax Collected in relation to Excise and Sales Tax is ` 7 Crore.\\n* Italy Pie-Diagram:\\nTotal Tax Borne is ` 12 Crore which is net of Municipal Property Tax of ` 14 \\nCrore and Other Taxes of ` (2 Crore)` 287\\n` 0.25` 219\\nTax Collected \\n(` 206)\\nWHT  \\n 80Excise and Sales Tax 7Tax Borne  \\n(` 81)Others \\n11Federal  \\ntax  \\n 15\\nProperty tax 25\\nCustoms  30Payroll tax  \\n119WHT  \\n 33Municipal \\nProperty  \\ntax \\n14\\nTax  \\nBorne  \\n(` 12)\\nTax Collected \\n(` 207)\\nVAT \\n174\\nCorporate Income Tax \\n0.09Tax Borne  (` 0.13)\\nSurface tax on Coal Concession 0.04Tax Collected (` 0.12)WHT \\n0.12The tax contribution in Italy, USA and other jurisdictions (on cash basis) is as follows:\\n11', metadata={'source': './Tax-Transparency-Report.pdf', 'page': 12}), Document(page_content='Effective Tax Rate\\nThe effective rate of income-tax borne by the company is 32.42%. The same has been determined as follows:\\nThe Central Government levies statutory income-tax and \\nsurcharge on corporates at statutory rate of 34.94%. \\nSection 115BAA of the Income-tax Act, 1961 allows the \\ncompanies an option to be taxed at tax rate of 25.168%, \\nprovided the companies do not claim certain tax benefits \\n(including the MAT credit) available under the Income-tax \\nAct, 1961.\\nThe Company has made an assessment of the impact of \\nopting to be taxed under Section 115BAA and has opted to \\ncontinue to be taxed at the rate of 34.94% until utilisation \\nof accumulated MAT credit and shall opt to new regime \\nonce MAT credit is utilised.\\nThe Company maintains reconciliation of the enacted/\\nstatutory and effective income tax rate in its financial \\nstatements. The primary reasons for the variance are \\nprovided as under:\\n•  Tax holidays and depreciation allowances availed by \\nthe Company, as allowed under the income-tax laws.\\n•  Non-taxable incomes or income taxable at the \\nlower tax rate credited to profit and loss account such as income from Mutual funds, Dividend from \\nShares, Deferred Tax on Fair Valuation of Optionally \\nFully Convertible Debentures/Compulsorily \\nConvertible Debentures.\\n•  Non-deductible expenses incurred by the Company \\nsuch as CSR expenses, Interest under Income Tax, \\nfines, penalties etc.\\n•  Tax provision on disallowance of education cess \\npursuant to retrospective amendment in tax laws.\\nA comparative analysis of effective tax rate in current year \\nvis-à-vis in last year is tabulated as under:\\nParticulars FY 2021-22 FY 2020-21\\nStandalone Basis 32.42% 31.18%\\nConsolidated basis 29.61% 34.47%\\nJSW Steel Group is committed to abiding by the spirit of \\nthe legislation and avails only the legitimate tax benefits \\nallowed by the government under the tax laws. We have a \\nstrict resistance against any form of tax\\xa0evasion.32.42  %\\nEffective Tax Rate` 24,715 crores\\nProfit Before Taxes` 4,411  crores\\nCurrent Tax` 3,602 crores   \\nDeferred Tax+\\n=\\n12\\nTAX TRANSPARENCY REPORT\\nJSW STEEL LIMITED   |  2021-22', metadata={'source': './Tax-Transparency-Report.pdf', 'page': 13}), Document(page_content='Tax Practice\\nCompliance\\nThe motto of JSW Steel Group is to maintain integrity, \\ndiligence and transparency while undertaking compliance \\nand reporting under the laws and regulations in all the \\ncountries we operate. Our tax team is mindful of various \\ntax compliance and its importance for the stakeholders \\nas well as government. We have robust internal controls \\nand protocols to ensure that all the statutory compliances \\nare appropriately complied within the due dates. We also \\nmaintain a tax calendar to ensure timely compliance. \\nThe JSW Steel Group follows a zero-tolerance approach \\ntowards any delay/ lapse in tax compliance.\\nThe tax positions required to be taken by the respective \\nJSW Steel Group company in its tax returns are analysed by \\nthe in-house tax team, along with the external tax advisors. \\nThe tax position taken, along with the rationale, pros and \\ncons, are duly documented. The opinion of legal counsels \\nand external tax advisors are taken on the positions taken \\nby the Company. These tax positions are then reviewed/\\ndiscussed with the Financial Controller and/or CFO of the \\nCompany. After appropriate consultation, the tax positions \\nare adopted by the Company.\\nIn case of compliance for payment of statutory taxes like \\nwithholding tax, advance tax, self-assessment tax, goods \\nand service tax, the cash flow budgets are planned and \\nthe roles and responsibilities are defined within the team to \\nensure payment of taxes is within the time limits specified \\nunder the law.\\nThe Company has a Legal Compliance Software to monitor \\nand comply to various statutory compliances. There is \\na robust mechanism to ensure timely compliance with \\nautomated controls. The compliance officer with the help \\nof risk management and legal team ensures compliance \\nto applicable Laws.\\nTax Incentives for Development of Notified Areas\\nOur goals are aligned with the founding principles of our \\ncountry which ensure an egalitarian development of all the \\nparts of the nation. In this light, we endeavor to contribute \\ntowards the development of under developed regions of \\nthe nation by setting up and expanding manufacturing \\nfacilities in those regions. This results into an increased \\nrate of employment and improvement in the overall \\nstandard of living of the people and the society. We have \\nmade substantial capital investment in those regions \\ntowards this objective. \\nWe are happy to share that these efforts of ours have \\nbeen recognised by various State Governments and \\ntax incentives have been awarded to the Company for \\nthe capital investments made and the employment \\nopportunities generated in notified areas including \\nimprovements in standard of living of consumer and vendors. We have also undertaken rehabilitation initiatives \\nfor those who are affected by our mining operations. \\nThe Company is eligible for claiming incentives for \\ninvestments made under the Industrial Policy of the \\nGovernment of Maharashtra under PSI Scheme 2007 & \\nPSI 2013 Scheme. The Company completed the Phase 1 \\nand Phase II expansion of 3.3 MTPA to 5 MTPA and 5 MTPA \\nto 10 MTPA at Dolvi, Maharashtra in May 2016 and during \\nfinancial year 2021-22 respectively and has also received \\nthe eligibility certificate for the same basis which it has \\nstarted availing incentives under the PSI 2007 since then. \\nAccordingly, the Company has recognised a grant income \\namounting to `  571 crores for the year ending March 2022.\\nThe business decisions of the Group are driven by the \\ncommercial rationale, with taxation aspect and implications \\nbeing given a fair consideration in the overall decision-\\nmaking process.\\nCountry by Country Reporting\\nWe consider that it is important to increase the \\nstakeholder’s understanding of tax matters and their trust \\nin larger corporate groups by being transparent about our \\ntax affairs and cooperating with the tax authorities. More \\npeople than ever have a vested interest in tax matters \\nand wish to obtain insights and understanding of board', metadata={'source': './Tax-Transparency-Report.pdf', 'page': 14}), Document(page_content='tax affairs and cooperating with the tax authorities. More \\npeople than ever have a vested interest in tax matters \\nand wish to obtain insights and understanding of board \\ntasks and responsibilities, board oversight, effective \\ntax-risk management, and auditable tax reporting. Tax \\ntransparency, reporting and the tax gap are in greater \\nfocus for governments, supranational groups, and NGOs.\\nWe ensure that we provide adequate transparent disclosure \\nof our tax affairs so that our stakeholders including the \\ngovernment are informed about how tax works in our Group \\nand what are our tax governance practices. By making \\ntimely and adequate payment of taxes, we contribute to \\ngovernment revenues which support public infrastructure \\nand services. We are committed to disclose our tax \\ninformation (Tax contribution, our compliance with laws \\nand regulations, etc.) under global sustainability standards \\nand reporting of the public Country by Country (CbC) report. \\nWe are transparent about our tax payments, and we strive \\nfor an open dialogue with governments.\\nApproach towards Related Party Transactions\\nThe related party transactions between JSW Steel \\nLimited and the related parties adhere to the arm’s length \\nprinciple contained in the Companies Act, 2013, Income-\\ntax Act, 1961, Income-tax Rules, 1962 and the Transfer \\nPricing Guidelines for Multinational Enterprises and Tax \\nAdministrations (‘OECD Guidelines – January 2022’) \\npublished by the Organisation for Economic Cooperation \\nand Development. To determine the appropriate pricing and \\nother terms of each transaction (including inter-corporate \\nloans, guarantees, sale and purchase of goods, availing of \\n13', metadata={'source': './Tax-Transparency-Report.pdf', 'page': 14}), Document(page_content='services), a detailed analysis is carried out on the terms \\nand conditions of the transaction, market rates, market \\ndemand and supply trends, third party pricing, third party \\nquotations, government circulars, economic analysis, etc. \\nwhich facilitates the characterisation of the transactions \\nbetween related parties and assists in establishing a \\ndegree of comparability with similar transactions in \\nuncontrolled conditions. The transactions entered into by \\nthe Company (including inter-corporate loans, guarantees, \\nsale and purchase of goods, availing of services), are \\napproved by the Audit Committee, Board of Directors and \\nthe Shareholders of the Company, as required under the \\nCompanies Act, 2013 and Securities and Exchange Board of India (Listing Obligations and Disclosure Requirements) \\nRegulations, 2022.\\nAdequate documentation as required under the respective \\nlaws and regulations is maintained to substantiate the \\narm’s length principle.\\nThe policy on dealing with related parties as approved by \\nthe Board is uploaded on the Company’s website (https://\\nwww.jsw.in/investors/investor-relations-steel). The \\npolicy intends to ensure that proper reporting, approval \\nand disclosure processes are in place for all transactions \\nbetween the Company and Related Parties. \\n14\\nTAX TRANSPARENCY REPORT\\nJSW STEEL LIMITED   |  2021-22', metadata={'source': './Tax-Transparency-Report.pdf', 'page': 15}), Document(page_content='Engaging with Tax Authorities and Regulators\\nTax Representations\\nWe proactively share our views and suggestions on the \\noverall tax framework of the Country keeping in mind the \\nchanging practicalities of the commercial landscape. We \\naim to ensure an inclusive growth of the business and \\neconomy as a whole.\\nAs part of our tax advocacy initiative, we engage with \\ngovernments as a member of trade association, to \\nrepresent our views on proposed amendment to the \\nexisting or proposed law which has an industry-wide \\nimpact and possible challenges in its implementation.\\nOn certain occasions, we also directly represent the \\ngovernment highlighting any concerns faced by the Company.\\nAt all times, we maintain a respectful and professional \\ndemeanor towards the Government authorities. Our \\nrepresentations and discussion with the government \\nis unbiased and keeping in mind the overall economic \\ndevelopment of the Country as a whole. We have a stringent \\npolicy against any unethical and illegal gratifications. JSW \\nSteel has developed and implemented a robust policy on \\nEthical Business Conduct which is uploaded on the website \\nof the Company (https://www.jsw.in/groups/sustainability-\\npolicies).\\nTax Assessments and Litigations\\nIn case any adverse view is taken against the Company \\nby any tax or appellate authorities, the tax team of the \\nCompany analyses the detailed fact pattern, extant law \\nand jurisprudence on the subject matter before taking a \\ndecision to litigate further. The Company also consults its \\nexternal tax advisors and legal counsels at the time of \\ntaking such decision. \\nOur tax team maintains a list of ongoing tax assessments \\nand open tax matters initiated by or against the Company, \\nwhich is updated on a real time basis. Our endeavor is \\nto file timely responses to the information sought from \\nvarious tax authorities and act promptly to co-operate with \\nthe tax authorities on any ongoing tax scrutiny matters. \\nOur responses provide a detailed explanation on the \\ntechnical as well as the factual aspects based on which \\ntax positions are adopted by the Company, supported \\nby legal precedents or technical interpretations of the \\nlaw. The Company represents the tax matters and also \\nassistance is taken from the external tax advisors and \\nlegal counsels for representation as well as submitting \\nrequired explanation. We actively take assistance from \\nexternal tax advisors and senior legal counsels for drafting \\nour responses while making representations.\\nA detailed tax exposure analysis is carried out by the \\nCompany which is reviewed and vetted by the external \\ntax advisors and the same is presented before the Audit \\nCommittee on an annual basis. The key issues constituting the contingent liabilities of the \\nCompany as on 31 March 31, 2022 2022 are reported under \\nNote 45 (Page 274) of the Annual report. An indicative list \\nof such key issues are as follows:\\n•  The Company has challenged a levy of Forest \\nDevelopment Tax/ Forest Development Fee by the \\nGovernment of Karnataka under Karnataka Forest \\n(Amendment) Act 2016. The matter has been decided \\nin favor of the Company by the High Court of Karnataka. \\nPresently, an appeal filed by Karnataka Government \\nagainst this order is admitted by Hon’ble Supreme \\nCourt. The total contingent liability recognised in this \\nregard is ` 3,710 crores\\n•  The State of Goa has levied Green Cess on coal and \\ncoke amongst other materials under The Goa Cess on \\nProducts and Substances Causing Pollution (Green \\nCess) Act, 2013. This levy has been challenged before \\nthe Goa Bench of Bombay High Court and the court \\nhas passed an interim order directing the State of Goa \\nto not to take coercive steps till the matter is decided. \\nThe total contingent liability recognised in this regard \\nis ` 293 crores\\n•  The Company is in receipt of a show cause notice \\nfor payment of rural cess under The Goa Rural \\nImprovement Welfare Cess Act, 2000. The Company', metadata={'source': './Tax-Transparency-Report.pdf', 'page': 16}), Document(page_content='is ` 293 crores\\n•  The Company is in receipt of a show cause notice \\nfor payment of rural cess under The Goa Rural \\nImprovement Welfare Cess Act, 2000. The Company \\nhas responded to the notice and also filed a writ \\npetition before Bombay High Court wherein the court \\nhas suspended the demand and sought a reply from \\nthe State Transport Department. The total contingent \\nliability recognised in this regard is ` 969 crores\\n•  GST – Enforcement unit had issued a show cause \\nnotice on cross charge of invoices raised from JSW \\nOdisha registration to JSW Mumbai (ISD registration). \\nConsequently, in a writ petition filed by the Company \\nbefore Odisha High Court, the GST authorities were \\ndirected to hold fresh adjudication and pass a revised \\norder. Accordingly, a revised order has been passed \\nand the GST authorities have raised a demand of \\n` 2,678 crores. Out of the same, the Company has \\nrecognised ` 200 crores as contingent liability and \\nthe balance demand as remote liability.\\nThe legal department of the Company peruse open \\nlitigations in the respective codes based on the scheduled \\nhearings for their earliest resolution. The Company is \\nkeeping updated on the judicial developments on the \\nissue under litigation and also takes the opinion of the legal \\ncounsel from time to time.\\nAny matter that arises in a tax proceeding is escalated \\nto the  CFO of the Company which is addressed by a \\ndiscussion with him as mentioned in para 4 above.\\n15', metadata={'source': './Tax-Transparency-Report.pdf', 'page': 16}), Document(page_content='Basis of Preparation\\nWe have reported the Contribution to Exchequer to the \\nGovernment by JSW Steel and our subsidiaries under \\nsection 5 above. Further, the entities which were liquidated \\nor have insignificant operations as on March 31, 2022, \\n2022 have been excluded from reporting. The major \\ntax contribution is bifurcated amongst India, USA and \\nItaly. Contribution in other jurisdiction is reflected under \\n‘Others’ category.\\nWe have reported Contribution to Exchequer on cash \\nbasis. The reporting methodology followed for each type \\nof Contribution to Exchequer has been detailed below:\\nCorporate Tax/Income Tax:\\nDirect Tax comprises of Corporate Income Tax but does not \\ninclude Deferred Tax. These taxes are the actual payments \\nmade net off refunds received during the financial year \\nunder consideration with respect to Corporate Income Tax \\nof the same year and/or of previous years.\\nIndirect Taxes:\\nIndirect Tax payments such as Customs Duty represent \\npayments remitted to the Government Exchequer on cash \\nbasis. Indirect Tax payments made for reverse charge \\nliability and on imports paid in cash also form part of the \\namount reported. Payment of taxes on procurements paid \\nto vendors are not considered here. Also, any indirect \\ntaxes paid which are not available as input tax credit are \\nconsidered here. It also includes other indirect taxes such \\nas GST, and Excise Duty etc. which have been collected \\nfrom customers and deposited with the government. Typically, the amounts of indirect tax payments have been \\nobtained from various statutory periodic forms/ returns and \\nstatements/ challans or any other documents being filed \\nand maintained with the relevant government authorities.\\nWithholding Taxes:\\nTaxes collected include withholding taxes collected from \\nvendors and employees, taxes collected from customers \\nand other payroll taxes. A withholding tax is an income tax \\nto be paid to the government by the payer of the income \\nrather than by the recipient of the income. Withholding \\ntaxes usually apply to payments made to employees, \\nvendors, service providers, non-residents, etc., of the \\ncompany. This also includes taxes collected on various \\npayments received from customers for prescribed goods \\nor services.\\nMining Royalty and Charges:\\nThis comprises contributions made to the government in \\nthe form of Bid-premium and royalties for mining-related \\noperations, and other mining-related payments for the \\nextraction of minerals and ore.\\nOther Taxes and Charges:\\nThis comprises taxes/cess/charges paid on consumption \\nof water, generation of electricity, property tax, municipal \\ntaxes, forest development tax, vehicle tax, panchayat tax \\nand other taxes borne. In addition, professional tax that is \\nwithheld from employee remuneration which is paid to the \\ngovernment by the respective companies in the capacity \\nof an employer are also included.\\n16\\nTAX TRANSPARENCY REPORT\\nJSW STEEL LIMITED   |  2021-22', metadata={'source': './Tax-Transparency-Report.pdf', 'page': 17}), Document(page_content='Independent Auditor’s Report on Global \\nTax and Other ContributionDSM S & Co LLP  \\nChartered Accountants  \\n \\n \\n_____________________________________________________________________________________  \\nRegistered Office Add: A -603, Amit Darshan, Dadabhai Cross Road No -3, Vile Parle W , Mumbai – 400056 \\nMailing Add: S/23, New Hanuman B ldg, Gr. Flr, Opp. S VC Co-op Bank, Grant Road E - 40000 7 Independent Auditor’s Report  on Global Tax and Other Contribution  \\n \\n \\nTo,  \\nThe Board of JSW Steel Limited  \\nJSW Centre,  \\nBandra Kurla Complex,  \\nBandra East,  \\nMumbai, Maharashtra – 400051,  \\nIndia,  \\nCIN: L27102MH1994PLC152925.  \\n \\nIndependent Auditor’s Report on ‘Tax Contribution ’ schedule included in the “Tax \\nTransparency Report FY22”  \\n \\nWe, D S M S & Co LLP (‘D  S M S’ or ‘we’), were engaged by the management of JSW Steel \\nLimited ( ‘JSW  Steel  / the Company ’) to report on the ‘Tax Contribution ’ schedule  [consisting of \\nJSW Steel Limited and its subsidiaries]  contained in its Tax Transparency Report for the Financial \\nYear (‘FY’)  2021 -22, in the form of an independent audit report, concluding whether the ‘Tax \\nContribution ’ schedule is properly prepared, in all material respects, based on ‘Basis of \\nPreparation’ included in the Tax Transparency Report.  We have verifi ed the accompanying ‘Tax \\nContribution ’ schedule for the year ended March 31, 2022, included in the Tax Transparency  \\nReport 2021 -22 of JSW Steel headquartered in Mumbai, India.  \\n \\nManagement’s Responsibility  \\n \\nThe Management of JSW Steel is responsible for the preparation and presentation of the Tax \\nTransparency Report for the FY 2021 -22 in accordance with the “Basis of Preparation” and is \\nalso responsible for maintaining such internal controls, as management determ ines necessary, \\nto enable the preparation of the Tax Transparency Report for the FY 2021 -22 in a manner that \\nis free from material misstatement, whether due to fraud or error.  The Management is \\nresponsible for preparing the Basis of Preparation.  \\n \\nThis responsibility includes designing, implementing and maintaining internal control relevant \\nto the preparation and presentation of ‘Tax Contribution’  schedule of JSW that is free from \\nmateri al misstatement whether due to fraud or error and ensuring that it complies with laws \\nand regulations applicable to its activities.  \\n \\nIndependent Auditor’s Responsibility  \\n \\nOur responsibility is to examine and express an opinion on the ‘Tax Contribution ’ schedule of \\nJSW Steel, based on our review and to report thereon , giving reasonable assurance , in the form \\nof an independent conclusion based on the evidence obtained. We have taken into account ISA \\n805, which requires us to obtain reasonable assurance that the ‘Tax Contribution’  schedule for \\nthe FY 2021 -22 is free from material misstatement, whether due to fraud or error.  \\n \\nReasonable assurance is a high level of assurance, but is not a guarantee that an audit \\nconducted will always detect a material misstatement, when it exists. Misstatements can arise \\nfrom fraud or error and are considered material if, individually or in agg regate, could \\n17', metadata={'source': './Tax-Transparency-Report.pdf', 'page': 18}), Document(page_content='Page 2 of 2 \\n reason ably be expected to inﬂuence the econ omic decisio ns of users taken on the basis of this \\nTax Transparency Re port for the FY 2021-22.  \\n \\nWe have relied upon the audited ﬁnancial statements and other evid ence as mad e availa ble to \\nus for the purpose of this veriﬁca�on. \\n \\nOur Opinion \\n \\nWe believe that the evid ence we have obtained is suﬃcient and appropriate to provide a basis \\nfor our conclusion. In our opinion, the ‘Tax Contribu�on’ schedule as contained in the Tax \\nTransparency Rep ort of JSW for the FY 2021-22 has been prepared properly, in all material \\nrespects, in accordance with the Basis of Prepara�on.  \\n \\nThis Report is not iss ued under any statute / law. \\n \\nRestric� on on Use of our Report \\n \\nThis Report has been issued at the request of JSW Steel and should not be used by any other \\nperson. We are appoi nted only to verify whethe r the ‘Tax Contribu�on’ schedule contained in \\nthe Tax Transparency Report for the FY 2021-22 is in accordance with the Basis of Prepara�on \\nshared with us and we are not the auditors of JSW Steel or any of its group en��es .  \\n \\nOur report should not be regarded as suitable to be used or relied on by any party wishing to \\nacqu ire rights against us other than JSW Steel for any purpose or in any context. Any party \\nother than JSW Steel who obtains access to our report or a copy thereof and chooses to rely on \\nour report (or any part thereof) will do so at its own risk. To the fullest extent permi�ed by law, \\nwe accept or assu me no responsibility and deny any liability to any party other than JSW Steel \\nfor our work, for this audit report or for the conclusions that we have reached.  \\n \\nOur report is released to JSW Steel on the basis that it shall not be copied, referred to or \\ndisclosed, in whole (save for inclusion in JSW Steel’s Tax Transparency Re port) or in part, \\nwithout our prior wri�en consent. \\n \\n \\nFor D S M S & Co LLP  \\nChartered Accounta nts  \\nICAI Firm Registra�on No.: W100834 \\n \\n \\n \\nMihir Patwa  \\nPartner  \\nICAI Memb ership  No: 152605  \\nUDIN: 22152605BGLTFW3773 \\n \\nPlace: Mumbai  \\nDate: 30 Decem ber 2022\\n18\\nTAX TRANSPARENCY REPORT\\nJSW STEEL LIMITED   |  2021-22', metadata={'source': './Tax-Transparency-Report.pdf', 'page': 19}), Document(page_content='Glossary\\nCARO : Company Audit Report Order\\nCCD : Compulsory Convertible Debentures\\nCFO : Chief Financial Officer\\nCOE : Centre of Excellence\\nCSR : Corporate social responsibility\\nCST : Central Sales Tax\\nESG : Environment, Social and Governance\\nFY : Financial Year\\nGBS : Global Business Solutions\\nGST : Goods and Service Tax\\n` : Indian Rupee\\nJSW Steel : JSW Steel Limited, Company\\nMAT : Minimum Alternate Tax\\nOFCD : Optionally Fully Convertible Debentures\\nReport : Tax Transparency Report \\nUK : United Kingdom\\nUSA : United States of America\\nVAT : Value Added tax\\nWHT : Withholding tax\\n19', metadata={'source': './Tax-Transparency-Report.pdf', 'page': 20}), Document(page_content='Notes', metadata={'source': './Tax-Transparency-Report.pdf', 'page': 21}), Document(page_content='21', metadata={'source': './Tax-Transparency-Report.pdf', 'page': 22}), Document(page_content='If undelivered, please return to:\\nJSW Centre\\nBandra Kurla Complex,\\nNear MMRDA Grounds,\\nBandra East,\\nMumbai 400 051P: +91 22 4286 1000\\nF: +91 22 4286 3000\\nE: contact@jsw.in\\nW: www.jsw.inJSW Steel is the flagship business of the diversified, US$ 22 billion \\nJSW Group. As one of India’s leading business houses, JSW Group \\nalso has interests in energy, infrastructure, cement, paints, sports, \\nand venture capital. JSW Steel, certified by Great Places To Work in \\n2021, has emerged as an organisation with a strong cultural \\nfoundation. Over the last three decades, it has grown from a single \\nmanufacturing unit to become India’s leading integrated steel \\ncompany with a capacity of 28.5 MTPA in India and the USA \\n(including capacities under joint control).\\nIts next phase of growth in India will take its \\ntotal capacity to 38.5 MTPA by FY 2024-25. \\nThe Company’s manufacturing unit in Vijayanagar, \\nKarnataka is the largest single-location \\nsteel-producing facility in India with a capacity of 12 \\nMTPA. JSW Steel has always been at the forefront of \\nresearch and innovation. It has a strategic \\ncollaboration with global leader JFE Steel of Japan, \\nenabling JSW Steel to access new and \\nstate-of-the-art technologies to produce and offer \\nhigh-value special steel products to its customers. \\nThese products are extensively used across \\nindustries and applications including construction, \\ninfrastructure, automobile, electrical applications, \\nand appliances. JSW Steel is widely recognised for \\nits excellence in business and sustainability \\npractices.Some of these recognitions include World Steel \\nAssociation’s Steel Sustainability Champion \\n(consecutively from 2019 to 2022), Leadership \\nRating (A-) in CDP (2020 and 2021), Deming Prize for \\nTQM for its facilities at Vijayanagar (2018), and Salem \\n(2019). It is part of the S&P Dow Jones Sustainability \\nIndex (DJSI) for Emerging Markets (2021) and S&P \\nGlobal’s Sustainability Yearbook (consecutively for \\n2020 and 2021). JSW Steel is the only Indian \\ncompany to be ranked among the top 15 global steel \\nproducers by World Steel Dynamics for 13 \\nconsecutive years since 2008. As a responsible \\ncorporate citizen, JSW Steel’s carbon reduction \\ngoals are aligned with India’s Climate Change \\ncommitments under the Paris Accord.', metadata={'source': './Tax-Transparency-Report.pdf', 'page': 23})]\n"
     ]
    }
   ],
   "source": [
    "print(pages)"
   ]
  },
  {
   "cell_type": "code",
   "execution_count": 15,
   "id": "6bcdfe0a",
   "metadata": {},
   "outputs": [],
   "source": [
    "# from llama_index.llms.together import TogetherLLM\n",
    "# llm = TogetherLLM(\n",
    "#     model=\"togethercomputer/llama-2-70b-chat\", \n",
    "# #     temperature= 0.7,\n",
    "# #      top_p= 0.8,\n",
    "# #      top_k=50,\n",
    "# api_key=\"96557b956acf6073510ee7e4abadc1c7863626e75278a0eaf9a747875af30604\",\n",
    "# )\n",
    "from langchain_together import Together\n",
    "\n",
    "llm= Together(\n",
    "        model=\"togethercomputer/llama-2-70b-chat\",\n",
    "        # model=\"gpt-4\",\n",
    "        temperature=0.1,\n",
    "#         max_tokens=207,\n",
    "        top_k=1,\n",
    "        together_api_key=\"1cecf43792b1187b044ab0293853353cc45caf8fdfe0a82e049d53cbf5954d26\",\n",
    "    )"
   ]
  },
  {
   "cell_type": "code",
   "execution_count": 10,
   "id": "1e3340b4",
   "metadata": {},
   "outputs": [
    {
     "data": {
      "application/vnd.jupyter.widget-view+json": {
       "model_id": "125be4d5c3b34bc48d59dc357e33fee3",
       "version_major": 2,
       "version_minor": 0
      },
      "text/plain": [
       "modules.json:   0%|          | 0.00/349 [00:00<?, ?B/s]"
      ]
     },
     "metadata": {},
     "output_type": "display_data"
    },
    {
     "name": "stderr",
     "output_type": "stream",
     "text": [
      "C:\\Users\\sumanyu.p\\AppData\\Local\\anaconda3\\Lib\\site-packages\\huggingface_hub\\file_download.py:149: UserWarning: `huggingface_hub` cache-system uses symlinks by default to efficiently store duplicated files but your machine does not support them in C:\\Users\\sumanyu.p\\.cache\\huggingface\\hub\\models--sentence-transformers--all-MiniLM-L6-v2. Caching files will still work but in a degraded version that might require more space on your disk. This warning can be disabled by setting the `HF_HUB_DISABLE_SYMLINKS_WARNING` environment variable. For more details, see https://huggingface.co/docs/huggingface_hub/how-to-cache#limitations.\n",
      "To support symlinks on Windows, you either need to activate Developer Mode or to run Python as an administrator. In order to see activate developer mode, see this article: https://docs.microsoft.com/en-us/windows/apps/get-started/enable-your-device-for-development\n",
      "  warnings.warn(message)\n"
     ]
    },
    {
     "data": {
      "application/vnd.jupyter.widget-view+json": {
       "model_id": "0ce07dc9ba6846768b6ff991d2015eb4",
       "version_major": 2,
       "version_minor": 0
      },
      "text/plain": [
       "config_sentence_transformers.json:   0%|          | 0.00/116 [00:00<?, ?B/s]"
      ]
     },
     "metadata": {},
     "output_type": "display_data"
    },
    {
     "data": {
      "application/vnd.jupyter.widget-view+json": {
       "model_id": "846195e960a541cdba2b6ec779cbd6c4",
       "version_major": 2,
       "version_minor": 0
      },
      "text/plain": [
       "README.md:   0%|          | 0.00/10.7k [00:00<?, ?B/s]"
      ]
     },
     "metadata": {},
     "output_type": "display_data"
    },
    {
     "data": {
      "application/vnd.jupyter.widget-view+json": {
       "model_id": "1858e6c2eb624c8c8f96f49dd2b94b90",
       "version_major": 2,
       "version_minor": 0
      },
      "text/plain": [
       "sentence_bert_config.json:   0%|          | 0.00/53.0 [00:00<?, ?B/s]"
      ]
     },
     "metadata": {},
     "output_type": "display_data"
    },
    {
     "data": {
      "application/vnd.jupyter.widget-view+json": {
       "model_id": "92affb24f6aa4e9ebd8b47a2af5ad498",
       "version_major": 2,
       "version_minor": 0
      },
      "text/plain": [
       "config.json:   0%|          | 0.00/612 [00:00<?, ?B/s]"
      ]
     },
     "metadata": {},
     "output_type": "display_data"
    },
    {
     "data": {
      "application/vnd.jupyter.widget-view+json": {
       "model_id": "7f8d89d9eee5499590208bc690ff82ff",
       "version_major": 2,
       "version_minor": 0
      },
      "text/plain": [
       "model.safetensors:   0%|          | 0.00/90.9M [00:00<?, ?B/s]"
      ]
     },
     "metadata": {},
     "output_type": "display_data"
    },
    {
     "data": {
      "application/vnd.jupyter.widget-view+json": {
       "model_id": "11ffedbe54604fd3b9af9cae2e6b50f7",
       "version_major": 2,
       "version_minor": 0
      },
      "text/plain": [
       "tokenizer_config.json:   0%|          | 0.00/350 [00:00<?, ?B/s]"
      ]
     },
     "metadata": {},
     "output_type": "display_data"
    },
    {
     "data": {
      "application/vnd.jupyter.widget-view+json": {
       "model_id": "d581e43654e445eda78228e6dd121b9a",
       "version_major": 2,
       "version_minor": 0
      },
      "text/plain": [
       "vocab.txt:   0%|          | 0.00/232k [00:00<?, ?B/s]"
      ]
     },
     "metadata": {},
     "output_type": "display_data"
    },
    {
     "data": {
      "application/vnd.jupyter.widget-view+json": {
       "model_id": "7ae80a1263fe47ca9f64cd5459e4c4b2",
       "version_major": 2,
       "version_minor": 0
      },
      "text/plain": [
       "tokenizer.json:   0%|          | 0.00/466k [00:00<?, ?B/s]"
      ]
     },
     "metadata": {},
     "output_type": "display_data"
    },
    {
     "data": {
      "application/vnd.jupyter.widget-view+json": {
       "model_id": "480859483b29476ebfe08750f41c9660",
       "version_major": 2,
       "version_minor": 0
      },
      "text/plain": [
       "special_tokens_map.json:   0%|          | 0.00/112 [00:00<?, ?B/s]"
      ]
     },
     "metadata": {},
     "output_type": "display_data"
    },
    {
     "data": {
      "application/vnd.jupyter.widget-view+json": {
       "model_id": "3c4bde8b073e4022b0157bfe9b0763e5",
       "version_major": 2,
       "version_minor": 0
      },
      "text/plain": [
       "1_Pooling/config.json:   0%|          | 0.00/190 [00:00<?, ?B/s]"
      ]
     },
     "metadata": {},
     "output_type": "display_data"
    }
   ],
   "source": [
    "# from langchain.embeddings import HuggingFaceEmbeddings\n",
    "# from llama_index.embeddings.langchain import LangchainEmbedding\n",
    "# lc_embed_model = HuggingFaceEmbeddings(\n",
    "#     model_name=\"sentence-transformers/all-mpnet-base-v2\"\n",
    "# )\n",
    "# embeddings = LangchainEmbedding(lc_embed_model)\n",
    "from langchain.embeddings import SentenceTransformerEmbeddings\n",
    "embeddings = SentenceTransformerEmbeddings(model_name=\"all-MiniLM-L6-v2\")\n",
    "\n"
   ]
  },
  {
   "cell_type": "code",
   "execution_count": 25,
   "id": "edc27a2d",
   "metadata": {},
   "outputs": [],
   "source": [
    "vectordb = Chroma.from_documents(pages,embeddings)\n",
    "\n",
    "# Initialize the OpenAI module, load and run the summarize chain\n",
    "# llm = OpenAI(temperature=0, openai_api_key=openai_api_key)\n",
    "# chain = load_summarize_chain(llm, chain_type=\"stuff\")\n",
    "# search = vectordb.similarity_search(\" \")\n",
    "# summary = chain.run(input_documents=search, question=\"Write a summary within 150 words.\")\n",
    "\n",
    "# print(summary)"
   ]
  },
  {
   "cell_type": "code",
   "execution_count": 22,
   "id": "79d394a4",
   "metadata": {},
   "outputs": [
    {
     "name": "stdout",
     "output_type": "stream",
     "text": [
      "<langchain_community.vectorstores.chroma.Chroma object at 0x0000017BD3C62CD0>\n"
     ]
    }
   ],
   "source": [
    "print(vectordb)"
   ]
  },
  {
   "cell_type": "code",
   "execution_count": 19,
   "id": "bd495dc3",
   "metadata": {},
   "outputs": [
    {
     "name": "stdout",
     "output_type": "stream",
     "text": [
      "\n",
      "\n",
      "The text consists of the number 21 repeated three times, followed by the word \"Notes\". It appears to be a list or a set of items, but the context is not clear. Without additional information, it is difficult to provide a more specific summary.\n"
     ]
    }
   ],
   "source": [
    "chain = load_summarize_chain(llm, chain_type=\"stuff\")\n",
    "search = vectordb.similarity_search(\" \")\n",
    "summary = chain.run(input_documents=search, question=\"Write a summary within 150 words.\")\n",
    "\n",
    "print(summary)"
   ]
  },
  {
   "cell_type": "code",
   "execution_count": 26,
   "id": "a83824c6",
   "metadata": {},
   "outputs": [
    {
     "ename": "ValueError",
     "evalue": "Expected IDs to be a non-empty list, got []",
     "output_type": "error",
     "traceback": [
      "\u001b[1;31m---------------------------------------------------------------------------\u001b[0m",
      "\u001b[1;31mValueError\u001b[0m                                Traceback (most recent call last)",
      "Cell \u001b[1;32mIn[26], line 19\u001b[0m\n\u001b[0;32m     16\u001b[0m embedding_function \u001b[38;5;241m=\u001b[39m SentenceTransformerEmbeddings(model_name\u001b[38;5;241m=\u001b[39m\u001b[38;5;124m\"\u001b[39m\u001b[38;5;124mall-MiniLM-L6-v2\u001b[39m\u001b[38;5;124m\"\u001b[39m)\n\u001b[0;32m     18\u001b[0m \u001b[38;5;66;03m# load docs into Chroma DB\u001b[39;00m\n\u001b[1;32m---> 19\u001b[0m db \u001b[38;5;241m=\u001b[39m Chroma\u001b[38;5;241m.\u001b[39mfrom_documents(docs, embedding_function)\n",
      "File \u001b[1;32m~\\AppData\\Local\\anaconda3\\Lib\\site-packages\\langchain_community\\vectorstores\\chroma.py:778\u001b[0m, in \u001b[0;36mChroma.from_documents\u001b[1;34m(cls, documents, embedding, ids, collection_name, persist_directory, client_settings, client, collection_metadata, **kwargs)\u001b[0m\n\u001b[0;32m    776\u001b[0m texts \u001b[38;5;241m=\u001b[39m [doc\u001b[38;5;241m.\u001b[39mpage_content \u001b[38;5;28;01mfor\u001b[39;00m doc \u001b[38;5;129;01min\u001b[39;00m documents]\n\u001b[0;32m    777\u001b[0m metadatas \u001b[38;5;241m=\u001b[39m [doc\u001b[38;5;241m.\u001b[39mmetadata \u001b[38;5;28;01mfor\u001b[39;00m doc \u001b[38;5;129;01min\u001b[39;00m documents]\n\u001b[1;32m--> 778\u001b[0m \u001b[38;5;28;01mreturn\u001b[39;00m \u001b[38;5;28mcls\u001b[39m\u001b[38;5;241m.\u001b[39mfrom_texts(\n\u001b[0;32m    779\u001b[0m     texts\u001b[38;5;241m=\u001b[39mtexts,\n\u001b[0;32m    780\u001b[0m     embedding\u001b[38;5;241m=\u001b[39membedding,\n\u001b[0;32m    781\u001b[0m     metadatas\u001b[38;5;241m=\u001b[39mmetadatas,\n\u001b[0;32m    782\u001b[0m     ids\u001b[38;5;241m=\u001b[39mids,\n\u001b[0;32m    783\u001b[0m     collection_name\u001b[38;5;241m=\u001b[39mcollection_name,\n\u001b[0;32m    784\u001b[0m     persist_directory\u001b[38;5;241m=\u001b[39mpersist_directory,\n\u001b[0;32m    785\u001b[0m     client_settings\u001b[38;5;241m=\u001b[39mclient_settings,\n\u001b[0;32m    786\u001b[0m     client\u001b[38;5;241m=\u001b[39mclient,\n\u001b[0;32m    787\u001b[0m     collection_metadata\u001b[38;5;241m=\u001b[39mcollection_metadata,\n\u001b[0;32m    788\u001b[0m     \u001b[38;5;241m*\u001b[39m\u001b[38;5;241m*\u001b[39mkwargs,\n\u001b[0;32m    789\u001b[0m )\n",
      "File \u001b[1;32m~\\AppData\\Local\\anaconda3\\Lib\\site-packages\\langchain_community\\vectorstores\\chroma.py:736\u001b[0m, in \u001b[0;36mChroma.from_texts\u001b[1;34m(cls, texts, embedding, metadatas, ids, collection_name, persist_directory, client_settings, client, collection_metadata, **kwargs)\u001b[0m\n\u001b[0;32m    728\u001b[0m     \u001b[38;5;28;01mfrom\u001b[39;00m \u001b[38;5;21;01mchromadb\u001b[39;00m\u001b[38;5;21;01m.\u001b[39;00m\u001b[38;5;21;01mutils\u001b[39;00m\u001b[38;5;21;01m.\u001b[39;00m\u001b[38;5;21;01mbatch_utils\u001b[39;00m \u001b[38;5;28;01mimport\u001b[39;00m create_batches\n\u001b[0;32m    730\u001b[0m     \u001b[38;5;28;01mfor\u001b[39;00m batch \u001b[38;5;129;01min\u001b[39;00m create_batches(\n\u001b[0;32m    731\u001b[0m         api\u001b[38;5;241m=\u001b[39mchroma_collection\u001b[38;5;241m.\u001b[39m_client,\n\u001b[0;32m    732\u001b[0m         ids\u001b[38;5;241m=\u001b[39mids,\n\u001b[0;32m    733\u001b[0m         metadatas\u001b[38;5;241m=\u001b[39mmetadatas,\n\u001b[0;32m    734\u001b[0m         documents\u001b[38;5;241m=\u001b[39mtexts,\n\u001b[0;32m    735\u001b[0m     ):\n\u001b[1;32m--> 736\u001b[0m         chroma_collection\u001b[38;5;241m.\u001b[39madd_texts(\n\u001b[0;32m    737\u001b[0m             texts\u001b[38;5;241m=\u001b[39mbatch[\u001b[38;5;241m3\u001b[39m] \u001b[38;5;28;01mif\u001b[39;00m batch[\u001b[38;5;241m3\u001b[39m] \u001b[38;5;28;01melse\u001b[39;00m [],\n\u001b[0;32m    738\u001b[0m             metadatas\u001b[38;5;241m=\u001b[39mbatch[\u001b[38;5;241m2\u001b[39m] \u001b[38;5;28;01mif\u001b[39;00m batch[\u001b[38;5;241m2\u001b[39m] \u001b[38;5;28;01melse\u001b[39;00m \u001b[38;5;28;01mNone\u001b[39;00m,\n\u001b[0;32m    739\u001b[0m             ids\u001b[38;5;241m=\u001b[39mbatch[\u001b[38;5;241m0\u001b[39m],\n\u001b[0;32m    740\u001b[0m         )\n\u001b[0;32m    741\u001b[0m \u001b[38;5;28;01melse\u001b[39;00m:\n\u001b[0;32m    742\u001b[0m     chroma_collection\u001b[38;5;241m.\u001b[39madd_texts(texts\u001b[38;5;241m=\u001b[39mtexts, metadatas\u001b[38;5;241m=\u001b[39mmetadatas, ids\u001b[38;5;241m=\u001b[39mids)\n",
      "File \u001b[1;32m~\\AppData\\Local\\anaconda3\\Lib\\site-packages\\langchain_community\\vectorstores\\chroma.py:324\u001b[0m, in \u001b[0;36mChroma.add_texts\u001b[1;34m(self, texts, metadatas, ids, **kwargs)\u001b[0m\n\u001b[0;32m    318\u001b[0m         \u001b[38;5;28mself\u001b[39m\u001b[38;5;241m.\u001b[39m_collection\u001b[38;5;241m.\u001b[39mupsert(\n\u001b[0;32m    319\u001b[0m             embeddings\u001b[38;5;241m=\u001b[39membeddings_without_metadatas,\n\u001b[0;32m    320\u001b[0m             documents\u001b[38;5;241m=\u001b[39mtexts_without_metadatas,\n\u001b[0;32m    321\u001b[0m             ids\u001b[38;5;241m=\u001b[39mids_without_metadatas,\n\u001b[0;32m    322\u001b[0m         )\n\u001b[0;32m    323\u001b[0m \u001b[38;5;28;01melse\u001b[39;00m:\n\u001b[1;32m--> 324\u001b[0m     \u001b[38;5;28mself\u001b[39m\u001b[38;5;241m.\u001b[39m_collection\u001b[38;5;241m.\u001b[39mupsert(\n\u001b[0;32m    325\u001b[0m         embeddings\u001b[38;5;241m=\u001b[39membeddings,\n\u001b[0;32m    326\u001b[0m         documents\u001b[38;5;241m=\u001b[39mtexts,\n\u001b[0;32m    327\u001b[0m         ids\u001b[38;5;241m=\u001b[39mids,\n\u001b[0;32m    328\u001b[0m     )\n\u001b[0;32m    329\u001b[0m \u001b[38;5;28;01mreturn\u001b[39;00m ids\n",
      "File \u001b[1;32m~\\AppData\\Local\\anaconda3\\Lib\\site-packages\\chromadb\\api\\models\\Collection.py:477\u001b[0m, in \u001b[0;36mCollection.upsert\u001b[1;34m(self, ids, embeddings, metadatas, documents, images, uris)\u001b[0m\n\u001b[0;32m    444\u001b[0m \u001b[38;5;28;01mdef\u001b[39;00m \u001b[38;5;21mupsert\u001b[39m(\n\u001b[0;32m    445\u001b[0m     \u001b[38;5;28mself\u001b[39m,\n\u001b[0;32m    446\u001b[0m     ids: OneOrMany[ID],\n\u001b[1;32m   (...)\u001b[0m\n\u001b[0;32m    456\u001b[0m     uris: Optional[OneOrMany[URI]] \u001b[38;5;241m=\u001b[39m \u001b[38;5;28;01mNone\u001b[39;00m,\n\u001b[0;32m    457\u001b[0m ) \u001b[38;5;241m-\u001b[39m\u001b[38;5;241m>\u001b[39m \u001b[38;5;28;01mNone\u001b[39;00m:\n\u001b[0;32m    458\u001b[0m \u001b[38;5;250m    \u001b[39m\u001b[38;5;124;03m\"\"\"Update the embeddings, metadatas or documents for provided ids, or create them if they don't exist.\u001b[39;00m\n\u001b[0;32m    459\u001b[0m \n\u001b[0;32m    460\u001b[0m \u001b[38;5;124;03m    Args:\u001b[39;00m\n\u001b[1;32m   (...)\u001b[0m\n\u001b[0;32m    467\u001b[0m \u001b[38;5;124;03m        None\u001b[39;00m\n\u001b[0;32m    468\u001b[0m \u001b[38;5;124;03m    \"\"\"\u001b[39;00m\n\u001b[0;32m    470\u001b[0m     (\n\u001b[0;32m    471\u001b[0m         ids,\n\u001b[0;32m    472\u001b[0m         embeddings,\n\u001b[0;32m    473\u001b[0m         metadatas,\n\u001b[0;32m    474\u001b[0m         documents,\n\u001b[0;32m    475\u001b[0m         images,\n\u001b[0;32m    476\u001b[0m         uris,\n\u001b[1;32m--> 477\u001b[0m     ) \u001b[38;5;241m=\u001b[39m \u001b[38;5;28mself\u001b[39m\u001b[38;5;241m.\u001b[39m_validate_embedding_set(\n\u001b[0;32m    478\u001b[0m         ids, embeddings, metadatas, documents, images, uris\n\u001b[0;32m    479\u001b[0m     )\n\u001b[0;32m    481\u001b[0m     \u001b[38;5;28;01mif\u001b[39;00m embeddings \u001b[38;5;129;01mis\u001b[39;00m \u001b[38;5;28;01mNone\u001b[39;00m:\n\u001b[0;32m    482\u001b[0m         \u001b[38;5;28;01mif\u001b[39;00m documents \u001b[38;5;129;01mis\u001b[39;00m \u001b[38;5;129;01mnot\u001b[39;00m \u001b[38;5;28;01mNone\u001b[39;00m:\n",
      "File \u001b[1;32m~\\AppData\\Local\\anaconda3\\Lib\\site-packages\\chromadb\\api\\models\\Collection.py:545\u001b[0m, in \u001b[0;36mCollection._validate_embedding_set\u001b[1;34m(self, ids, embeddings, metadatas, documents, images, uris, require_embeddings_or_data)\u001b[0m\n\u001b[0;32m    523\u001b[0m \u001b[38;5;28;01mdef\u001b[39;00m \u001b[38;5;21m_validate_embedding_set\u001b[39m(\n\u001b[0;32m    524\u001b[0m     \u001b[38;5;28mself\u001b[39m,\n\u001b[0;32m    525\u001b[0m     ids: OneOrMany[ID],\n\u001b[1;32m   (...)\u001b[0m\n\u001b[0;32m    543\u001b[0m     Optional[URIs],\n\u001b[0;32m    544\u001b[0m ]:\n\u001b[1;32m--> 545\u001b[0m     valid_ids \u001b[38;5;241m=\u001b[39m validate_ids(maybe_cast_one_to_many_ids(ids))\n\u001b[0;32m    546\u001b[0m     valid_embeddings \u001b[38;5;241m=\u001b[39m (\n\u001b[0;32m    547\u001b[0m         validate_embeddings(\n\u001b[0;32m    548\u001b[0m             \u001b[38;5;28mself\u001b[39m\u001b[38;5;241m.\u001b[39m_normalize_embeddings(maybe_cast_one_to_many_embedding(embeddings))\n\u001b[1;32m   (...)\u001b[0m\n\u001b[0;32m    551\u001b[0m         \u001b[38;5;28;01melse\u001b[39;00m \u001b[38;5;28;01mNone\u001b[39;00m\n\u001b[0;32m    552\u001b[0m     )\n\u001b[0;32m    553\u001b[0m     valid_metadatas \u001b[38;5;241m=\u001b[39m (\n\u001b[0;32m    554\u001b[0m         validate_metadatas(maybe_cast_one_to_many_metadata(metadatas))\n\u001b[0;32m    555\u001b[0m         \u001b[38;5;28;01mif\u001b[39;00m metadatas \u001b[38;5;129;01mis\u001b[39;00m \u001b[38;5;129;01mnot\u001b[39;00m \u001b[38;5;28;01mNone\u001b[39;00m\n\u001b[0;32m    556\u001b[0m         \u001b[38;5;28;01melse\u001b[39;00m \u001b[38;5;28;01mNone\u001b[39;00m\n\u001b[0;32m    557\u001b[0m     )\n",
      "File \u001b[1;32m~\\AppData\\Local\\anaconda3\\Lib\\site-packages\\chromadb\\api\\types.py:228\u001b[0m, in \u001b[0;36mvalidate_ids\u001b[1;34m(ids)\u001b[0m\n\u001b[0;32m    226\u001b[0m     \u001b[38;5;28;01mraise\u001b[39;00m \u001b[38;5;167;01mValueError\u001b[39;00m(\u001b[38;5;124mf\u001b[39m\u001b[38;5;124m\"\u001b[39m\u001b[38;5;124mExpected IDs to be a list, got \u001b[39m\u001b[38;5;132;01m{\u001b[39;00mids\u001b[38;5;132;01m}\u001b[39;00m\u001b[38;5;124m\"\u001b[39m)\n\u001b[0;32m    227\u001b[0m \u001b[38;5;28;01mif\u001b[39;00m \u001b[38;5;28mlen\u001b[39m(ids) \u001b[38;5;241m==\u001b[39m \u001b[38;5;241m0\u001b[39m:\n\u001b[1;32m--> 228\u001b[0m     \u001b[38;5;28;01mraise\u001b[39;00m \u001b[38;5;167;01mValueError\u001b[39;00m(\u001b[38;5;124mf\u001b[39m\u001b[38;5;124m\"\u001b[39m\u001b[38;5;124mExpected IDs to be a non-empty list, got \u001b[39m\u001b[38;5;132;01m{\u001b[39;00mids\u001b[38;5;132;01m}\u001b[39;00m\u001b[38;5;124m\"\u001b[39m)\n\u001b[0;32m    229\u001b[0m seen \u001b[38;5;241m=\u001b[39m \u001b[38;5;28mset\u001b[39m()\n\u001b[0;32m    230\u001b[0m dups \u001b[38;5;241m=\u001b[39m \u001b[38;5;28mset\u001b[39m()\n",
      "\u001b[1;31mValueError\u001b[0m: Expected IDs to be a non-empty list, got []"
     ]
    }
   ],
   "source": [
    "from langchain.text_splitter import CharacterTextSplitter\n",
    "from langchain.vectorstores import Chroma\n",
    "from langchain.document_loaders import PyPDFDirectoryLoader\n",
    "import os\n",
    "import json\n",
    "\n",
    "# load the document and split it into chunks\n",
    "loader = PyPDFDirectoryLoader('./Tax-Transparency-Report.pdf')\n",
    "documents = loader.load()\n",
    "\n",
    "# split it into chunks\n",
    "text_splitter = CharacterTextSplitter(chunk_size=1500, chunk_overlap=200)\n",
    "docs = text_splitter.split_documents(documents)\n",
    "\n",
    "# create the open-source embedding function\n",
    "embedding_function = SentenceTransformerEmbeddings(model_name=\"all-MiniLM-L6-v2\")\n",
    "\n",
    "# load docs into Chroma DB\n",
    "db = Chroma.from_documents(docs, embedding_function)\n",
    "\n",
    "# query the DB\n",
    "# query = \"MY QUERY\"\n",
    "# docs = db.similarity_search(query)"
   ]
  },
  {
   "cell_type": "code",
   "execution_count": 21,
   "id": "31f5e400-5631-4868-94a5-126f2f24e9e5",
   "metadata": {},
   "outputs": [
    {
     "name": "stderr",
     "output_type": "stream",
     "text": [
      "C:\\Users\\sumanyu.p\\AppData\\Local\\anaconda3\\Lib\\site-packages\\langchain_core\\_api\\deprecation.py:117: LangChainDeprecationWarning: The class `langchain_community.embeddings.openai.OpenAIEmbeddings` was deprecated in langchain-community 0.0.9 and will be removed in 0.2.0. An updated version of the class exists in the langchain-openai package and should be used instead. To use it run `pip install -U langchain-openai` and import as `from langchain_openai import OpenAIEmbeddings`.\n",
      "  warn_deprecated(\n"
     ]
    }
   ],
   "source": [
    "# import streamlit as st\n",
    "from PyPDF2 import PdfReader\n",
    "from langchain.text_splitter import RecursiveCharacterTextSplitter\n",
    "from langchain.embeddings.openai import OpenAIEmbeddings\n",
    "from langchain_community.chat_models import ChatOpenAI\n",
    "from langchain.chains.question_answering import load_qa_chain\n",
    "from qdrant_client import QdrantClient,models\n",
    "from qdrant_client.http.models import PointStruct\n",
    "from PyPDF2 import PdfFileReader\n",
    "\n",
    "\n",
    "\n",
    "\n",
    "OPENAI_API_KEY = \"sk-PHzh89333124kjfd38493jjfdk84035i5Z\" #Pass your key here\n",
    "QDRANT_API_KEY = \"kZ45hV4OWMoYKZwS_IHlAlWJoAMYJ5cqGQSOlhaX2LzsSESy05sMwA\"\n",
    "QDRANT_URL = \"https://f61cbe4b-aeb9-425e-b534-24f26fc3219b.us-east4-0.gcp.cloud.qdrant.io:6333\"\n",
    "\n",
    "#Upload PDF files\n",
    "# st.header(\"Welcome To Phoenix\")\n",
    "\n",
    "# with  st.sidebar:\n",
    "#     st.title(\"Your Documents\")\n",
    "#     file = st.file_uploader(\" Upload a PDF file and start asking questions\", type=\"pdf\")\n",
    "\n",
    "loader = PyPDFLoader('./Tax-Transparency-Report.pdf')\n",
    "pages = loader.load_and_split()\n",
    "#Extract the text\n",
    "# if file is not None:\n",
    "#     pdf_reader = PdfReader(file)\n",
    "#     text = \"\"\n",
    "#     for page in pdf_reader.pages:\n",
    "#         text += page.extract_text()\n",
    "#         #st.write(text)\n",
    "\n",
    "# from PyPDF2 import PdfFileReader\n",
    "\n",
    "# def extract_text_from_pdf(pdf_file_path):\n",
    "#     try:\n",
    "#         # Open the PDF file\n",
    "#         with open(pdf_file_path, 'rb') as file:\n",
    "#             # Create a PDF reader object\n",
    "#             pdf_reader = PdfFileReader(file)\n",
    "#             # Initialize an empty string to store extracted text\n",
    "#             text = \"\"\n",
    "#             # Iterate through each page of the PDF\n",
    "#             for page_number in range(pdf_reader.numPages):\n",
    "#                 # Extract text from the page and concatenate it to the existing text\n",
    "#                 text += pdf_reader.getPage(page_number).extractText()\n",
    "#         return text\n",
    "#     except Exception as e:\n",
    "#         print(\"Error:\", e)\n",
    "\n",
    "# # Provide the path to your PDF file\n",
    "# pdf_file_path = './Tax-Transparency-Report.pdf'\n",
    "\n",
    "# # Extract text from the PDF file\n",
    "# extracted_text = extract_text_from_pdf(pdf_file_path)\n",
    "\n",
    "# # Print or store the extracted text\n",
    "# print(extracted_text)\n",
    "\n",
    "    #Break it into chunks\n",
    "text_splitter = RecursiveCharacterTextSplitter(\n",
    "        separators=\"\\n\",\n",
    "        chunk_size=1000,\n",
    "        chunk_overlap=150,\n",
    "        length_function=len\n",
    "    )\n",
    "chunks = text_splitter.split_text(str(pages))\n",
    "    #st.write(chunks)\n",
    "\n",
    "    # generating embedding\n",
    "embeddings = OpenAIEmbeddings(openai_api_key=OPENAI_API_KEY)\n",
    "\n",
    "    # Initialize Qdrant client\n",
    "qdrant_client = QdrantClient(url=QDRANT_URL, api_key=QDRANT_API_KEY)\n",
    "\n"
   ]
  },
  {
   "cell_type": "code",
   "execution_count": 22,
   "id": "5e4df3f2-84f9-41a2-ba01-ad55f8aa4f7c",
   "metadata": {},
   "outputs": [
    {
     "ename": "AttributeError",
     "evalue": "'QdrantClient' object has no attribute 'insert_entity'",
     "output_type": "error",
     "traceback": [
      "\u001b[1;31m---------------------------------------------------------------------------\u001b[0m",
      "\u001b[1;31mAttributeError\u001b[0m                            Traceback (most recent call last)",
      "Cell \u001b[1;32mIn[22], line 3\u001b[0m\n\u001b[0;32m      1\u001b[0m \u001b[38;5;66;03m# Index documents in Qdrant\u001b[39;00m\n\u001b[0;32m      2\u001b[0m \u001b[38;5;28;01mfor\u001b[39;00m i, chunk \u001b[38;5;129;01min\u001b[39;00m \u001b[38;5;28menumerate\u001b[39m(chunks):\n\u001b[1;32m----> 3\u001b[0m  \u001b[43mqdrant_client\u001b[49m\u001b[38;5;241;43m.\u001b[39;49m\u001b[43minsert_entity\u001b[49m({\u001b[38;5;124m\"\u001b[39m\u001b[38;5;124mtext\u001b[39m\u001b[38;5;124m\"\u001b[39m: chunk}, i)\n\u001b[0;32m      5\u001b[0m \u001b[38;5;66;03m# get user question\u001b[39;00m\n\u001b[0;32m      6\u001b[0m user_question \u001b[38;5;241m=\u001b[39m st\u001b[38;5;241m.\u001b[39mtext_input(\u001b[38;5;124m\"\u001b[39m\u001b[38;5;124mType Your question here\u001b[39m\u001b[38;5;124m\"\u001b[39m)\n",
      "\u001b[1;31mAttributeError\u001b[0m: 'QdrantClient' object has no attribute 'insert_entity'"
     ]
    }
   ],
   "source": [
    "    # Index documents in Qdrant\n",
    "for i, chunk in enumerate(chunks):\n",
    "     qdrant_client.insert_entity({\"text\": chunk}, i)\n",
    "\n",
    "    # get user question\n",
    "user_question = st.text_input(\"Type Your question here\")\n",
    "\n",
    "    # do similarity search\n",
    "if user_question:\n",
    "        # Search for similar documents in Qdrant\n",
    "        response = qdrant_client.search(text=user_question)\n",
    "        match = [result['id'] for result in response['hits']]\n",
    "        \n",
    "        # Define the LLM\n",
    "llm = ChatOpenAI(\n",
    "            openai_api_key=OPENAI_API_KEY,\n",
    "            temperature=0,\n",
    "            max_tokens=1000,\n",
    "            model_name=\"gpt-3.5-turbo\"\n",
    "        )\n",
    "\n",
    "        # Output results\n",
    "        # Chain -> take the question, get relevant document, pass it to the LLM, generate the output\n",
    "response = llm.query(question=user_question, context=chunks[match[0]])\n",
    "        # st.write(response)\n",
    "print(response)"
   ]
  },
  {
   "cell_type": "code",
   "execution_count": 11,
   "id": "6677a397-959b-4d3b-a5c3-01bbef536c28",
   "metadata": {},
   "outputs": [
    {
     "name": "stdout",
     "output_type": "stream",
     "text": [
      "Note: you may need to restart the kernel to use updated packages.\n"
     ]
    }
   ],
   "source": [
    "%pip install --upgrade --quiet  qdrant-client"
   ]
  },
  {
   "cell_type": "code",
   "execution_count": 12,
   "id": "a922bd90-f8d4-4348-8dcf-b51d18699821",
   "metadata": {},
   "outputs": [
    {
     "name": "stdin",
     "output_type": "stream",
     "text": [
      "OpenAI API Key: ········\n"
     ]
    }
   ],
   "source": [
    "\n",
    "import getpass\n",
    "import os\n",
    "\n",
    "os.environ[\"OPENAI_API_KEY\"] = getpass.getpass(\"OpenAI API Key:\")"
   ]
  },
  {
   "cell_type": "code",
   "execution_count": 2,
   "id": "3488785b-9fd9-4c22-9fa4-4cee2d78010d",
   "metadata": {},
   "outputs": [],
   "source": [
    "from langchain_community.document_loaders import TextLoader\n",
    "from langchain_community.vectorstores import Qdrant\n",
    "from langchain_openai import OpenAIEmbeddings\n",
    "from langchain_text_splitters import CharacterTextSplitter"
   ]
  },
  {
   "cell_type": "code",
   "execution_count": 15,
   "id": "005e5946-8810-4930-81f8-c88566de1d1d",
   "metadata": {},
   "outputs": [],
   "source": [
    "# loader = TextLoader(\"./Tax-Transparency-Report.pdf\")\n",
    "# documents = loader.load()\n",
    "from langchain.document_loaders import PyPDFLoader\n",
    "loader = PyPDFLoader('./Tax-Transparency-Report.pdf')\n",
    "documents = loader.load_and_split()\n",
    "text_splitter = CharacterTextSplitter(chunk_size=1000, chunk_overlap=0)\n",
    "docs = text_splitter.split_documents(documents)\n",
    "\n",
    "# embeddings = OpenAIEmbeddings()\n",
    "from langchain.embeddings import SentenceTransformerEmbeddings\n",
    "embeddings = SentenceTransformerEmbeddings(model_name=\"all-MiniLM-L6-v2\")\n",
    "# embeddings = OpenAIEmbeddings()"
   ]
  },
  {
   "cell_type": "code",
   "execution_count": 16,
   "id": "02dbc5fb-a731-41d2-a5d0-1333e6e75a71",
   "metadata": {},
   "outputs": [],
   "source": [
    "qdrant = Qdrant.from_documents(\n",
    "    docs,\n",
    "    embeddings,\n",
    "    path=\"./tmp1\",\n",
    "    collection_name=\"my_documents\",\n",
    ")"
   ]
  },
  {
   "cell_type": "code",
   "execution_count": 17,
   "id": "1b710397-0d6e-4010-8863-6aa2b04e35ec",
   "metadata": {},
   "outputs": [],
   "source": [
    "query = \"What is the Overall market capitalisation of JSW steels?\"\n",
    "found_docs = qdrant.similarity_search(query)"
   ]
  },
  {
   "cell_type": "code",
   "execution_count": 18,
   "id": "709687dd-23d8-4c44-9001-a1f23c011f8e",
   "metadata": {},
   "outputs": [
    {
     "name": "stdout",
     "output_type": "stream",
     "text": [
      "Financial Performance\n",
      "The consolidated turnover of JSW Steel Group for the year \n",
      "ending March 2022 is ` 1,43,829 crores. Out of this, JSW \n",
      "Steel contributes 62.96%, with a turnover of `  90,550 crores \n",
      "(excluding sales to related parties). The three integrated steel plants (ISPs) at Vijayanagar, Dolvi and Salem continue \n",
      "to be the mainstay of JSW Steel. At JSW Steel, the export \n",
      "revenue stands at `  24,699 crores which is 21.12% of Total \n",
      "Revenue of JSW Steel.\n",
      "The relevant financial parameters of JSW Steel Group across key geographies are tabulated below:\n",
      "Countries India USA Italy Others\n",
      "Primary Activities Integrated manufacturing \n",
      "of diverse range of steel \n",
      "products Integrated manufacturing \n",
      "of diverse range of steel \n",
      "products Integrated manufacturing \n",
      "of diverse range of steel \n",
      "products Mining related operations\n",
      "Number of employees 22,907 734 1662 4\n",
      "Turnover \n",
      "(Sale of products)\n",
      "(Excluding sales to related party)` 1,33,889 crores\n",
      "[93% of total turnover]` 7,070 crores\n",
      "[5% of total turnover]` 2,869 crores\n",
      "[2% of total turnover]0\n",
      "Profit (Loss) before tax* ` 29,236 crores ` 1,451 crores (` 85 crores) (` 204 crores)\n",
      "Income tax expense \n",
      "(Current tax + Deferred tax)*` 8,681 crores ` 24 crores ` 9 crores (` 1 crore)\n",
      "Current tax expenses as per \n",
      "profit and loss statement` 4,983 crores ` 27 crores - ` 0.05 crores\n",
      "Income tax paid ` 4,916 crores ` 15 crores (` 2 crores) ` 0.09 crores\n",
      "*Reported on the basis of Form AOC-1 prepared in accordance with the provisions of Section 129(3) of the Companies Act, 2013.\n",
      "18.18 MnT\n",
      "Consolidated Saleable Steel Sales\n",
      "` 20,938 crores\n",
      "Consolidated Annual Net Profit After Tax` 1,46,371 crores\n",
      "Consolidated Annual Revenue (including other \n",
      "operating income)\n",
      "` 39,007 crores\n",
      "Consolidated Annual Operating EBIDTA\n",
      "3\n"
     ]
    }
   ],
   "source": [
    "print(found_docs[0].page_content)"
   ]
  }
 ],
 "metadata": {
  "kernelspec": {
   "display_name": "Python 3 (ipykernel)",
   "language": "python",
   "name": "python3"
  },
  "language_info": {
   "codemirror_mode": {
    "name": "ipython",
    "version": 3
   },
   "file_extension": ".py",
   "mimetype": "text/x-python",
   "name": "python",
   "nbconvert_exporter": "python",
   "pygments_lexer": "ipython3",
   "version": "3.11.7"
  }
 },
 "nbformat": 4,
 "nbformat_minor": 5
}
