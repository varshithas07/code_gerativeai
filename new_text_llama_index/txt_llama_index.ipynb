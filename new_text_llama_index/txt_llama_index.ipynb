{
 "cells": [
  {
   "cell_type": "code",
   "execution_count": 1,
   "id": "3f6fb8ea",
   "metadata": {},
   "outputs": [
    {
     "name": "stdout",
     "output_type": "stream",
     "text": [
      "Requirement already satisfied: llama-index in c:\\users\\sumanyu.p\\appdata\\local\\anaconda3\\lib\\site-packages (0.10.20)\n",
      "Requirement already satisfied: llama-index-agent-openai<0.2.0,>=0.1.4 in c:\\users\\sumanyu.p\\appdata\\local\\anaconda3\\lib\\site-packages (from llama-index) (0.1.5)\n",
      "Requirement already satisfied: llama-index-cli<0.2.0,>=0.1.2 in c:\\users\\sumanyu.p\\appdata\\local\\anaconda3\\lib\\site-packages (from llama-index) (0.1.9)\n",
      "Requirement already satisfied: llama-index-core<0.11.0,>=0.10.20 in c:\\users\\sumanyu.p\\appdata\\local\\anaconda3\\lib\\site-packages (from llama-index) (0.10.20.post2)\n",
      "Requirement already satisfied: llama-index-embeddings-openai<0.2.0,>=0.1.5 in c:\\users\\sumanyu.p\\appdata\\local\\anaconda3\\lib\\site-packages (from llama-index) (0.1.6)\n",
      "Requirement already satisfied: llama-index-indices-managed-llama-cloud<0.2.0,>=0.1.2 in c:\\users\\sumanyu.p\\appdata\\local\\anaconda3\\lib\\site-packages (from llama-index) (0.1.4)\n",
      "Requirement already satisfied: llama-index-legacy<0.10.0,>=0.9.48 in c:\\users\\sumanyu.p\\appdata\\local\\anaconda3\\lib\\site-packages (from llama-index) (0.9.48)\n",
      "Requirement already satisfied: llama-index-llms-openai<0.2.0,>=0.1.5 in c:\\users\\sumanyu.p\\appdata\\local\\anaconda3\\lib\\site-packages (from llama-index) (0.1.12)\n",
      "Requirement already satisfied: llama-index-multi-modal-llms-openai<0.2.0,>=0.1.3 in c:\\users\\sumanyu.p\\appdata\\local\\anaconda3\\lib\\site-packages (from llama-index) (0.1.4)\n",
      "Requirement already satisfied: llama-index-program-openai<0.2.0,>=0.1.3 in c:\\users\\sumanyu.p\\appdata\\local\\anaconda3\\lib\\site-packages (from llama-index) (0.1.4)\n",
      "Requirement already satisfied: llama-index-question-gen-openai<0.2.0,>=0.1.2 in c:\\users\\sumanyu.p\\appdata\\local\\anaconda3\\lib\\site-packages (from llama-index) (0.1.3)\n",
      "Requirement already satisfied: llama-index-readers-file<0.2.0,>=0.1.4 in c:\\users\\sumanyu.p\\appdata\\local\\anaconda3\\lib\\site-packages (from llama-index) (0.1.11)\n",
      "Requirement already satisfied: llama-index-readers-llama-parse<0.2.0,>=0.1.2 in c:\\users\\sumanyu.p\\appdata\\local\\anaconda3\\lib\\site-packages (from llama-index) (0.1.3)\n",
      "Requirement already satisfied: PyYAML>=6.0.1 in c:\\users\\sumanyu.p\\appdata\\local\\anaconda3\\lib\\site-packages (from llama-index-core<0.11.0,>=0.10.20->llama-index) (6.0.1)\n",
      "Requirement already satisfied: SQLAlchemy[asyncio]>=1.4.49 in c:\\users\\sumanyu.p\\appdata\\local\\anaconda3\\lib\\site-packages (from llama-index-core<0.11.0,>=0.10.20->llama-index) (2.0.28)\n",
      "Requirement already satisfied: aiohttp<4.0.0,>=3.8.6 in c:\\users\\sumanyu.p\\appdata\\local\\anaconda3\\lib\\site-packages (from llama-index-core<0.11.0,>=0.10.20->llama-index) (3.9.3)\n",
      "Requirement already satisfied: dataclasses-json in c:\\users\\sumanyu.p\\appdata\\local\\anaconda3\\lib\\site-packages (from llama-index-core<0.11.0,>=0.10.20->llama-index) (0.6.4)\n",
      "Requirement already satisfied: deprecated>=1.2.9.3 in c:\\users\\sumanyu.p\\appdata\\local\\anaconda3\\lib\\site-packages (from llama-index-core<0.11.0,>=0.10.20->llama-index) (1.2.14)\n",
      "Requirement already satisfied: dirtyjson<2.0.0,>=1.0.8 in c:\\users\\sumanyu.p\\appdata\\local\\anaconda3\\lib\\site-packages (from llama-index-core<0.11.0,>=0.10.20->llama-index) (1.0.8)\n",
      "Requirement already satisfied: fsspec>=2023.5.0 in c:\\users\\sumanyu.p\\appdata\\local\\anaconda3\\lib\\site-packages (from llama-index-core<0.11.0,>=0.10.20->llama-index) (2024.3.0)\n",
      "Requirement already satisfied: httpx in c:\\users\\sumanyu.p\\appdata\\local\\anaconda3\\lib\\site-packages (from llama-index-core<0.11.0,>=0.10.20->llama-index) (0.27.0)\n",
      "Requirement already satisfied: llamaindex-py-client<0.2.0,>=0.1.13 in c:\\users\\sumanyu.p\\appdata\\local\\anaconda3\\lib\\site-packages (from llama-index-core<0.11.0,>=0.10.20->llama-index) (0.1.13)\n",
      "Requirement already satisfied: nest-asyncio<2.0.0,>=1.5.8 in c:\\users\\sumanyu.p\\appdata\\local\\anaconda3\\lib\\site-packages (from llama-index-core<0.11.0,>=0.10.20->llama-index) (1.6.0)\n",
      "Requirement already satisfied: networkx>=3.0 in c:\\users\\sumanyu.p\\appdata\\local\\anaconda3\\lib\\site-packages (from llama-index-core<0.11.0,>=0.10.20->llama-index) (3.1)\n",
      "Requirement already satisfied: nltk<4.0.0,>=3.8.1 in c:\\users\\sumanyu.p\\appdata\\local\\anaconda3\\lib\\site-packages (from llama-index-core<0.11.0,>=0.10.20->llama-index) (3.8.1)\n",
      "Requirement already satisfied: numpy in c:\\users\\sumanyu.p\\appdata\\local\\anaconda3\\lib\\site-packages (from llama-index-core<0.11.0,>=0.10.20->llama-index) (1.24.3)\n",
      "Requirement already satisfied: openai>=1.1.0 in c:\\users\\sumanyu.p\\appdata\\local\\anaconda3\\lib\\site-packages (from llama-index-core<0.11.0,>=0.10.20->llama-index) (1.14.1)\n",
      "Requirement already satisfied: pandas in c:\\users\\sumanyu.p\\appdata\\local\\anaconda3\\lib\\site-packages (from llama-index-core<0.11.0,>=0.10.20->llama-index) (2.0.3)\n",
      "Requirement already satisfied: pillow>=9.0.0 in c:\\users\\sumanyu.p\\appdata\\local\\anaconda3\\lib\\site-packages (from llama-index-core<0.11.0,>=0.10.20->llama-index) (9.4.0)\n",
      "Requirement already satisfied: requests>=2.31.0 in c:\\users\\sumanyu.p\\appdata\\local\\anaconda3\\lib\\site-packages (from llama-index-core<0.11.0,>=0.10.20->llama-index) (2.31.0)\n",
      "Requirement already satisfied: tenacity<9.0.0,>=8.2.0 in c:\\users\\sumanyu.p\\appdata\\local\\anaconda3\\lib\\site-packages (from llama-index-core<0.11.0,>=0.10.20->llama-index) (8.2.2)\n",
      "Requirement already satisfied: tiktoken>=0.3.3 in c:\\users\\sumanyu.p\\appdata\\local\\anaconda3\\lib\\site-packages (from llama-index-core<0.11.0,>=0.10.20->llama-index) (0.6.0)\n",
      "Requirement already satisfied: tqdm<5.0.0,>=4.66.1 in c:\\users\\sumanyu.p\\appdata\\local\\anaconda3\\lib\\site-packages (from llama-index-core<0.11.0,>=0.10.20->llama-index) (4.66.2)\n",
      "Requirement already satisfied: typing-extensions>=4.5.0 in c:\\users\\sumanyu.p\\appdata\\local\\anaconda3\\lib\\site-packages (from llama-index-core<0.11.0,>=0.10.20->llama-index) (4.10.0)\n",
      "Requirement already satisfied: typing-inspect>=0.8.0 in c:\\users\\sumanyu.p\\appdata\\local\\anaconda3\\lib\\site-packages (from llama-index-core<0.11.0,>=0.10.20->llama-index) (0.9.0)\n",
      "Requirement already satisfied: beautifulsoup4<5.0.0,>=4.12.3 in c:\\users\\sumanyu.p\\appdata\\local\\anaconda3\\lib\\site-packages (from llama-index-readers-file<0.2.0,>=0.1.4->llama-index) (4.12.3)\n",
      "Requirement already satisfied: bs4<0.0.3,>=0.0.2 in c:\\users\\sumanyu.p\\appdata\\local\\anaconda3\\lib\\site-packages (from llama-index-readers-file<0.2.0,>=0.1.4->llama-index) (0.0.2)\n",
      "Requirement already satisfied: pymupdf<2.0.0,>=1.23.21 in c:\\users\\sumanyu.p\\appdata\\local\\anaconda3\\lib\\site-packages (from llama-index-readers-file<0.2.0,>=0.1.4->llama-index) (1.23.26)\n",
      "Requirement already satisfied: pypdf<5.0.0,>=4.0.1 in c:\\users\\sumanyu.p\\appdata\\local\\anaconda3\\lib\\site-packages (from llama-index-readers-file<0.2.0,>=0.1.4->llama-index) (4.1.0)\n",
      "Requirement already satisfied: striprtf<0.0.27,>=0.0.26 in c:\\users\\sumanyu.p\\appdata\\local\\anaconda3\\lib\\site-packages (from llama-index-readers-file<0.2.0,>=0.1.4->llama-index) (0.0.26)\n",
      "Requirement already satisfied: llama-parse<0.4.0,>=0.3.3 in c:\\users\\sumanyu.p\\appdata\\local\\anaconda3\\lib\\site-packages (from llama-index-readers-llama-parse<0.2.0,>=0.1.2->llama-index) (0.3.9)\n",
      "Requirement already satisfied: aiosignal>=1.1.2 in c:\\users\\sumanyu.p\\appdata\\local\\anaconda3\\lib\\site-packages (from aiohttp<4.0.0,>=3.8.6->llama-index-core<0.11.0,>=0.10.20->llama-index) (1.2.0)\n",
      "Requirement already satisfied: attrs>=17.3.0 in c:\\users\\sumanyu.p\\appdata\\local\\anaconda3\\lib\\site-packages (from aiohttp<4.0.0,>=3.8.6->llama-index-core<0.11.0,>=0.10.20->llama-index) (22.1.0)\n",
      "Requirement already satisfied: frozenlist>=1.1.1 in c:\\users\\sumanyu.p\\appdata\\local\\anaconda3\\lib\\site-packages (from aiohttp<4.0.0,>=3.8.6->llama-index-core<0.11.0,>=0.10.20->llama-index) (1.3.3)\n",
      "Requirement already satisfied: multidict<7.0,>=4.5 in c:\\users\\sumanyu.p\\appdata\\local\\anaconda3\\lib\\site-packages (from aiohttp<4.0.0,>=3.8.6->llama-index-core<0.11.0,>=0.10.20->llama-index) (6.0.2)\n",
      "Requirement already satisfied: yarl<2.0,>=1.0 in c:\\users\\sumanyu.p\\appdata\\local\\anaconda3\\lib\\site-packages (from aiohttp<4.0.0,>=3.8.6->llama-index-core<0.11.0,>=0.10.20->llama-index) (1.8.1)\n",
      "Requirement already satisfied: soupsieve>1.2 in c:\\users\\sumanyu.p\\appdata\\local\\anaconda3\\lib\\site-packages (from beautifulsoup4<5.0.0,>=4.12.3->llama-index-readers-file<0.2.0,>=0.1.4->llama-index) (2.4)\n",
      "Requirement already satisfied: wrapt<2,>=1.10 in c:\\users\\sumanyu.p\\appdata\\local\\anaconda3\\lib\\site-packages (from deprecated>=1.2.9.3->llama-index-core<0.11.0,>=0.10.20->llama-index) (1.14.1)\n",
      "Requirement already satisfied: pydantic>=1.10 in c:\\users\\sumanyu.p\\appdata\\local\\anaconda3\\lib\\site-packages (from llamaindex-py-client<0.2.0,>=0.1.13->llama-index-core<0.11.0,>=0.10.20->llama-index) (2.6.4)\n",
      "Requirement already satisfied: anyio in c:\\users\\sumanyu.p\\appdata\\local\\anaconda3\\lib\\site-packages (from httpx->llama-index-core<0.11.0,>=0.10.20->llama-index) (3.5.0)\n",
      "Requirement already satisfied: certifi in c:\\users\\sumanyu.p\\appdata\\local\\anaconda3\\lib\\site-packages (from httpx->llama-index-core<0.11.0,>=0.10.20->llama-index) (2023.7.22)\n",
      "Requirement already satisfied: httpcore==1.* in c:\\users\\sumanyu.p\\appdata\\local\\anaconda3\\lib\\site-packages (from httpx->llama-index-core<0.11.0,>=0.10.20->llama-index) (1.0.4)\n",
      "Requirement already satisfied: idna in c:\\users\\sumanyu.p\\appdata\\local\\anaconda3\\lib\\site-packages (from httpx->llama-index-core<0.11.0,>=0.10.20->llama-index) (3.4)\n",
      "Requirement already satisfied: sniffio in c:\\users\\sumanyu.p\\appdata\\local\\anaconda3\\lib\\site-packages (from httpx->llama-index-core<0.11.0,>=0.10.20->llama-index) (1.2.0)\n",
      "Requirement already satisfied: h11<0.15,>=0.13 in c:\\users\\sumanyu.p\\appdata\\local\\anaconda3\\lib\\site-packages (from httpcore==1.*->httpx->llama-index-core<0.11.0,>=0.10.20->llama-index) (0.14.0)\n",
      "Requirement already satisfied: click in c:\\users\\sumanyu.p\\appdata\\local\\anaconda3\\lib\\site-packages (from nltk<4.0.0,>=3.8.1->llama-index-core<0.11.0,>=0.10.20->llama-index) (8.0.4)\n",
      "Requirement already satisfied: joblib in c:\\users\\sumanyu.p\\appdata\\local\\anaconda3\\lib\\site-packages (from nltk<4.0.0,>=3.8.1->llama-index-core<0.11.0,>=0.10.20->llama-index) (1.2.0)\n",
      "Requirement already satisfied: regex>=2021.8.3 in c:\\users\\sumanyu.p\\appdata\\local\\anaconda3\\lib\\site-packages (from nltk<4.0.0,>=3.8.1->llama-index-core<0.11.0,>=0.10.20->llama-index) (2022.7.9)\n",
      "Requirement already satisfied: distro<2,>=1.7.0 in c:\\users\\sumanyu.p\\appdata\\local\\anaconda3\\lib\\site-packages (from openai>=1.1.0->llama-index-core<0.11.0,>=0.10.20->llama-index) (1.9.0)\n",
      "Requirement already satisfied: PyMuPDFb==1.23.22 in c:\\users\\sumanyu.p\\appdata\\local\\anaconda3\\lib\\site-packages (from pymupdf<2.0.0,>=1.23.21->llama-index-readers-file<0.2.0,>=0.1.4->llama-index) (1.23.22)\n",
      "Requirement already satisfied: charset-normalizer<4,>=2 in c:\\users\\sumanyu.p\\appdata\\local\\anaconda3\\lib\\site-packages (from requests>=2.31.0->llama-index-core<0.11.0,>=0.10.20->llama-index) (2.0.4)\n",
      "Requirement already satisfied: urllib3<3,>=1.21.1 in c:\\users\\sumanyu.p\\appdata\\local\\anaconda3\\lib\\site-packages (from requests>=2.31.0->llama-index-core<0.11.0,>=0.10.20->llama-index) (1.26.16)\n",
      "Requirement already satisfied: greenlet!=0.4.17 in c:\\users\\sumanyu.p\\appdata\\local\\anaconda3\\lib\\site-packages (from SQLAlchemy[asyncio]>=1.4.49->llama-index-core<0.11.0,>=0.10.20->llama-index) (2.0.1)\n",
      "Requirement already satisfied: colorama in c:\\users\\sumanyu.p\\appdata\\local\\anaconda3\\lib\\site-packages (from tqdm<5.0.0,>=4.66.1->llama-index-core<0.11.0,>=0.10.20->llama-index) (0.4.6)\n",
      "Requirement already satisfied: mypy-extensions>=0.3.0 in c:\\users\\sumanyu.p\\appdata\\local\\anaconda3\\lib\\site-packages (from typing-inspect>=0.8.0->llama-index-core<0.11.0,>=0.10.20->llama-index) (1.0.0)\n",
      "Requirement already satisfied: marshmallow<4.0.0,>=3.18.0 in c:\\users\\sumanyu.p\\appdata\\local\\anaconda3\\lib\\site-packages (from dataclasses-json->llama-index-core<0.11.0,>=0.10.20->llama-index) (3.21.1)\n",
      "Requirement already satisfied: python-dateutil>=2.8.2 in c:\\users\\sumanyu.p\\appdata\\local\\anaconda3\\lib\\site-packages (from pandas->llama-index-core<0.11.0,>=0.10.20->llama-index) (2.8.2)\n",
      "Requirement already satisfied: pytz>=2020.1 in c:\\users\\sumanyu.p\\appdata\\local\\anaconda3\\lib\\site-packages (from pandas->llama-index-core<0.11.0,>=0.10.20->llama-index) (2023.3.post1)\n",
      "Requirement already satisfied: tzdata>=2022.1 in c:\\users\\sumanyu.p\\appdata\\local\\anaconda3\\lib\\site-packages (from pandas->llama-index-core<0.11.0,>=0.10.20->llama-index) (2023.3)\n",
      "Requirement already satisfied: packaging>=17.0 in c:\\users\\sumanyu.p\\appdata\\local\\anaconda3\\lib\\site-packages (from marshmallow<4.0.0,>=3.18.0->dataclasses-json->llama-index-core<0.11.0,>=0.10.20->llama-index) (23.2)\n",
      "Requirement already satisfied: annotated-types>=0.4.0 in c:\\users\\sumanyu.p\\appdata\\local\\anaconda3\\lib\\site-packages (from pydantic>=1.10->llamaindex-py-client<0.2.0,>=0.1.13->llama-index-core<0.11.0,>=0.10.20->llama-index) (0.6.0)\n",
      "Requirement already satisfied: pydantic-core==2.16.3 in c:\\users\\sumanyu.p\\appdata\\local\\anaconda3\\lib\\site-packages (from pydantic>=1.10->llamaindex-py-client<0.2.0,>=0.1.13->llama-index-core<0.11.0,>=0.10.20->llama-index) (2.16.3)\n",
      "Requirement already satisfied: six>=1.5 in c:\\users\\sumanyu.p\\appdata\\local\\anaconda3\\lib\\site-packages (from python-dateutil>=2.8.2->pandas->llama-index-core<0.11.0,>=0.10.20->llama-index) (1.16.0)\n"
     ]
    }
   ],
   "source": [
    "!pip install llama-index"
   ]
  },
  {
   "cell_type": "code",
   "execution_count": 2,
   "id": "80c7d987",
   "metadata": {},
   "outputs": [
    {
     "name": "stdout",
     "output_type": "stream",
     "text": [
      "Requirement already satisfied: llama-index-llms-together in c:\\users\\sumanyu.p\\appdata\\local\\anaconda3\\lib\\site-packages (0.1.3)\n",
      "Requirement already satisfied: llama-index-core<0.11.0,>=0.10.11.post1 in c:\\users\\sumanyu.p\\appdata\\local\\anaconda3\\lib\\site-packages (from llama-index-llms-together) (0.10.20.post2)\n",
      "Requirement already satisfied: llama-index-llms-openai-like<0.2.0,>=0.1.3 in c:\\users\\sumanyu.p\\appdata\\local\\anaconda3\\lib\\site-packages (from llama-index-llms-together) (0.1.3)\n",
      "Requirement already satisfied: PyYAML>=6.0.1 in c:\\users\\sumanyu.p\\appdata\\local\\anaconda3\\lib\\site-packages (from llama-index-core<0.11.0,>=0.10.11.post1->llama-index-llms-together) (6.0.1)\n",
      "Requirement already satisfied: SQLAlchemy[asyncio]>=1.4.49 in c:\\users\\sumanyu.p\\appdata\\local\\anaconda3\\lib\\site-packages (from llama-index-core<0.11.0,>=0.10.11.post1->llama-index-llms-together) (2.0.28)\n",
      "Requirement already satisfied: aiohttp<4.0.0,>=3.8.6 in c:\\users\\sumanyu.p\\appdata\\local\\anaconda3\\lib\\site-packages (from llama-index-core<0.11.0,>=0.10.11.post1->llama-index-llms-together) (3.9.3)\n",
      "Requirement already satisfied: dataclasses-json in c:\\users\\sumanyu.p\\appdata\\local\\anaconda3\\lib\\site-packages (from llama-index-core<0.11.0,>=0.10.11.post1->llama-index-llms-together) (0.6.4)\n",
      "Requirement already satisfied: deprecated>=1.2.9.3 in c:\\users\\sumanyu.p\\appdata\\local\\anaconda3\\lib\\site-packages (from llama-index-core<0.11.0,>=0.10.11.post1->llama-index-llms-together) (1.2.14)\n",
      "Requirement already satisfied: dirtyjson<2.0.0,>=1.0.8 in c:\\users\\sumanyu.p\\appdata\\local\\anaconda3\\lib\\site-packages (from llama-index-core<0.11.0,>=0.10.11.post1->llama-index-llms-together) (1.0.8)\n",
      "Requirement already satisfied: fsspec>=2023.5.0 in c:\\users\\sumanyu.p\\appdata\\local\\anaconda3\\lib\\site-packages (from llama-index-core<0.11.0,>=0.10.11.post1->llama-index-llms-together) (2024.3.0)\n",
      "Requirement already satisfied: httpx in c:\\users\\sumanyu.p\\appdata\\local\\anaconda3\\lib\\site-packages (from llama-index-core<0.11.0,>=0.10.11.post1->llama-index-llms-together) (0.27.0)\n",
      "Requirement already satisfied: llamaindex-py-client<0.2.0,>=0.1.13 in c:\\users\\sumanyu.p\\appdata\\local\\anaconda3\\lib\\site-packages (from llama-index-core<0.11.0,>=0.10.11.post1->llama-index-llms-together) (0.1.13)\n",
      "Requirement already satisfied: nest-asyncio<2.0.0,>=1.5.8 in c:\\users\\sumanyu.p\\appdata\\local\\anaconda3\\lib\\site-packages (from llama-index-core<0.11.0,>=0.10.11.post1->llama-index-llms-together) (1.6.0)\n",
      "Requirement already satisfied: networkx>=3.0 in c:\\users\\sumanyu.p\\appdata\\local\\anaconda3\\lib\\site-packages (from llama-index-core<0.11.0,>=0.10.11.post1->llama-index-llms-together) (3.1)\n",
      "Requirement already satisfied: nltk<4.0.0,>=3.8.1 in c:\\users\\sumanyu.p\\appdata\\local\\anaconda3\\lib\\site-packages (from llama-index-core<0.11.0,>=0.10.11.post1->llama-index-llms-together) (3.8.1)\n",
      "Requirement already satisfied: numpy in c:\\users\\sumanyu.p\\appdata\\local\\anaconda3\\lib\\site-packages (from llama-index-core<0.11.0,>=0.10.11.post1->llama-index-llms-together) (1.24.3)\n",
      "Requirement already satisfied: openai>=1.1.0 in c:\\users\\sumanyu.p\\appdata\\local\\anaconda3\\lib\\site-packages (from llama-index-core<0.11.0,>=0.10.11.post1->llama-index-llms-together) (1.14.1)\n",
      "Requirement already satisfied: pandas in c:\\users\\sumanyu.p\\appdata\\local\\anaconda3\\lib\\site-packages (from llama-index-core<0.11.0,>=0.10.11.post1->llama-index-llms-together) (2.0.3)\n",
      "Requirement already satisfied: pillow>=9.0.0 in c:\\users\\sumanyu.p\\appdata\\local\\anaconda3\\lib\\site-packages (from llama-index-core<0.11.0,>=0.10.11.post1->llama-index-llms-together) (9.4.0)\n",
      "Requirement already satisfied: requests>=2.31.0 in c:\\users\\sumanyu.p\\appdata\\local\\anaconda3\\lib\\site-packages (from llama-index-core<0.11.0,>=0.10.11.post1->llama-index-llms-together) (2.31.0)\n",
      "Requirement already satisfied: tenacity<9.0.0,>=8.2.0 in c:\\users\\sumanyu.p\\appdata\\local\\anaconda3\\lib\\site-packages (from llama-index-core<0.11.0,>=0.10.11.post1->llama-index-llms-together) (8.2.2)\n",
      "Requirement already satisfied: tiktoken>=0.3.3 in c:\\users\\sumanyu.p\\appdata\\local\\anaconda3\\lib\\site-packages (from llama-index-core<0.11.0,>=0.10.11.post1->llama-index-llms-together) (0.6.0)\n",
      "Requirement already satisfied: tqdm<5.0.0,>=4.66.1 in c:\\users\\sumanyu.p\\appdata\\local\\anaconda3\\lib\\site-packages (from llama-index-core<0.11.0,>=0.10.11.post1->llama-index-llms-together) (4.66.2)\n",
      "Requirement already satisfied: typing-extensions>=4.5.0 in c:\\users\\sumanyu.p\\appdata\\local\\anaconda3\\lib\\site-packages (from llama-index-core<0.11.0,>=0.10.11.post1->llama-index-llms-together) (4.10.0)\n",
      "Requirement already satisfied: typing-inspect>=0.8.0 in c:\\users\\sumanyu.p\\appdata\\local\\anaconda3\\lib\\site-packages (from llama-index-core<0.11.0,>=0.10.11.post1->llama-index-llms-together) (0.9.0)\n",
      "Requirement already satisfied: llama-index-llms-openai<0.2.0,>=0.1.1 in c:\\users\\sumanyu.p\\appdata\\local\\anaconda3\\lib\\site-packages (from llama-index-llms-openai-like<0.2.0,>=0.1.3->llama-index-llms-together) (0.1.12)\n",
      "Requirement already satisfied: transformers<5.0.0,>=4.37.0 in c:\\users\\sumanyu.p\\appdata\\local\\anaconda3\\lib\\site-packages (from llama-index-llms-openai-like<0.2.0,>=0.1.3->llama-index-llms-together) (4.38.2)\n",
      "Requirement already satisfied: aiosignal>=1.1.2 in c:\\users\\sumanyu.p\\appdata\\local\\anaconda3\\lib\\site-packages (from aiohttp<4.0.0,>=3.8.6->llama-index-core<0.11.0,>=0.10.11.post1->llama-index-llms-together) (1.2.0)\n",
      "Requirement already satisfied: attrs>=17.3.0 in c:\\users\\sumanyu.p\\appdata\\local\\anaconda3\\lib\\site-packages (from aiohttp<4.0.0,>=3.8.6->llama-index-core<0.11.0,>=0.10.11.post1->llama-index-llms-together) (22.1.0)\n",
      "Requirement already satisfied: frozenlist>=1.1.1 in c:\\users\\sumanyu.p\\appdata\\local\\anaconda3\\lib\\site-packages (from aiohttp<4.0.0,>=3.8.6->llama-index-core<0.11.0,>=0.10.11.post1->llama-index-llms-together) (1.3.3)\n",
      "Requirement already satisfied: multidict<7.0,>=4.5 in c:\\users\\sumanyu.p\\appdata\\local\\anaconda3\\lib\\site-packages (from aiohttp<4.0.0,>=3.8.6->llama-index-core<0.11.0,>=0.10.11.post1->llama-index-llms-together) (6.0.2)\n",
      "Requirement already satisfied: yarl<2.0,>=1.0 in c:\\users\\sumanyu.p\\appdata\\local\\anaconda3\\lib\\site-packages (from aiohttp<4.0.0,>=3.8.6->llama-index-core<0.11.0,>=0.10.11.post1->llama-index-llms-together) (1.8.1)\n",
      "Requirement already satisfied: wrapt<2,>=1.10 in c:\\users\\sumanyu.p\\appdata\\local\\anaconda3\\lib\\site-packages (from deprecated>=1.2.9.3->llama-index-core<0.11.0,>=0.10.11.post1->llama-index-llms-together) (1.14.1)\n",
      "Requirement already satisfied: pydantic>=1.10 in c:\\users\\sumanyu.p\\appdata\\local\\anaconda3\\lib\\site-packages (from llamaindex-py-client<0.2.0,>=0.1.13->llama-index-core<0.11.0,>=0.10.11.post1->llama-index-llms-together) (2.6.4)\n",
      "Requirement already satisfied: anyio in c:\\users\\sumanyu.p\\appdata\\local\\anaconda3\\lib\\site-packages (from httpx->llama-index-core<0.11.0,>=0.10.11.post1->llama-index-llms-together) (3.5.0)\n",
      "Requirement already satisfied: certifi in c:\\users\\sumanyu.p\\appdata\\local\\anaconda3\\lib\\site-packages (from httpx->llama-index-core<0.11.0,>=0.10.11.post1->llama-index-llms-together) (2023.7.22)\n",
      "Requirement already satisfied: httpcore==1.* in c:\\users\\sumanyu.p\\appdata\\local\\anaconda3\\lib\\site-packages (from httpx->llama-index-core<0.11.0,>=0.10.11.post1->llama-index-llms-together) (1.0.4)\n",
      "Requirement already satisfied: idna in c:\\users\\sumanyu.p\\appdata\\local\\anaconda3\\lib\\site-packages (from httpx->llama-index-core<0.11.0,>=0.10.11.post1->llama-index-llms-together) (3.4)\n",
      "Requirement already satisfied: sniffio in c:\\users\\sumanyu.p\\appdata\\local\\anaconda3\\lib\\site-packages (from httpx->llama-index-core<0.11.0,>=0.10.11.post1->llama-index-llms-together) (1.2.0)\n",
      "Requirement already satisfied: h11<0.15,>=0.13 in c:\\users\\sumanyu.p\\appdata\\local\\anaconda3\\lib\\site-packages (from httpcore==1.*->httpx->llama-index-core<0.11.0,>=0.10.11.post1->llama-index-llms-together) (0.14.0)\n",
      "Requirement already satisfied: click in c:\\users\\sumanyu.p\\appdata\\local\\anaconda3\\lib\\site-packages (from nltk<4.0.0,>=3.8.1->llama-index-core<0.11.0,>=0.10.11.post1->llama-index-llms-together) (8.0.4)\n",
      "Requirement already satisfied: joblib in c:\\users\\sumanyu.p\\appdata\\local\\anaconda3\\lib\\site-packages (from nltk<4.0.0,>=3.8.1->llama-index-core<0.11.0,>=0.10.11.post1->llama-index-llms-together) (1.2.0)\n",
      "Requirement already satisfied: regex>=2021.8.3 in c:\\users\\sumanyu.p\\appdata\\local\\anaconda3\\lib\\site-packages (from nltk<4.0.0,>=3.8.1->llama-index-core<0.11.0,>=0.10.11.post1->llama-index-llms-together) (2022.7.9)\n",
      "Requirement already satisfied: distro<2,>=1.7.0 in c:\\users\\sumanyu.p\\appdata\\local\\anaconda3\\lib\\site-packages (from openai>=1.1.0->llama-index-core<0.11.0,>=0.10.11.post1->llama-index-llms-together) (1.9.0)\n",
      "Requirement already satisfied: charset-normalizer<4,>=2 in c:\\users\\sumanyu.p\\appdata\\local\\anaconda3\\lib\\site-packages (from requests>=2.31.0->llama-index-core<0.11.0,>=0.10.11.post1->llama-index-llms-together) (2.0.4)\n",
      "Requirement already satisfied: urllib3<3,>=1.21.1 in c:\\users\\sumanyu.p\\appdata\\local\\anaconda3\\lib\\site-packages (from requests>=2.31.0->llama-index-core<0.11.0,>=0.10.11.post1->llama-index-llms-together) (1.26.16)\n",
      "Requirement already satisfied: greenlet!=0.4.17 in c:\\users\\sumanyu.p\\appdata\\local\\anaconda3\\lib\\site-packages (from SQLAlchemy[asyncio]>=1.4.49->llama-index-core<0.11.0,>=0.10.11.post1->llama-index-llms-together) (2.0.1)\n",
      "Requirement already satisfied: colorama in c:\\users\\sumanyu.p\\appdata\\local\\anaconda3\\lib\\site-packages (from tqdm<5.0.0,>=4.66.1->llama-index-core<0.11.0,>=0.10.11.post1->llama-index-llms-together) (0.4.6)\n",
      "Requirement already satisfied: filelock in c:\\users\\sumanyu.p\\appdata\\local\\anaconda3\\lib\\site-packages (from transformers<5.0.0,>=4.37.0->llama-index-llms-openai-like<0.2.0,>=0.1.3->llama-index-llms-together) (3.9.0)\n",
      "Requirement already satisfied: huggingface-hub<1.0,>=0.19.3 in c:\\users\\sumanyu.p\\appdata\\local\\anaconda3\\lib\\site-packages (from transformers<5.0.0,>=4.37.0->llama-index-llms-openai-like<0.2.0,>=0.1.3->llama-index-llms-together) (0.21.4)\n",
      "Requirement already satisfied: packaging>=20.0 in c:\\users\\sumanyu.p\\appdata\\local\\anaconda3\\lib\\site-packages (from transformers<5.0.0,>=4.37.0->llama-index-llms-openai-like<0.2.0,>=0.1.3->llama-index-llms-together) (23.2)\n",
      "Requirement already satisfied: tokenizers<0.19,>=0.14 in c:\\users\\sumanyu.p\\appdata\\local\\anaconda3\\lib\\site-packages (from transformers<5.0.0,>=4.37.0->llama-index-llms-openai-like<0.2.0,>=0.1.3->llama-index-llms-together) (0.15.2)\n",
      "Requirement already satisfied: safetensors>=0.4.1 in c:\\users\\sumanyu.p\\appdata\\local\\anaconda3\\lib\\site-packages (from transformers<5.0.0,>=4.37.0->llama-index-llms-openai-like<0.2.0,>=0.1.3->llama-index-llms-together) (0.4.2)\n",
      "Requirement already satisfied: mypy-extensions>=0.3.0 in c:\\users\\sumanyu.p\\appdata\\local\\anaconda3\\lib\\site-packages (from typing-inspect>=0.8.0->llama-index-core<0.11.0,>=0.10.11.post1->llama-index-llms-together) (1.0.0)\n",
      "Requirement already satisfied: marshmallow<4.0.0,>=3.18.0 in c:\\users\\sumanyu.p\\appdata\\local\\anaconda3\\lib\\site-packages (from dataclasses-json->llama-index-core<0.11.0,>=0.10.11.post1->llama-index-llms-together) (3.21.1)\n",
      "Requirement already satisfied: python-dateutil>=2.8.2 in c:\\users\\sumanyu.p\\appdata\\local\\anaconda3\\lib\\site-packages (from pandas->llama-index-core<0.11.0,>=0.10.11.post1->llama-index-llms-together) (2.8.2)\n",
      "Requirement already satisfied: pytz>=2020.1 in c:\\users\\sumanyu.p\\appdata\\local\\anaconda3\\lib\\site-packages (from pandas->llama-index-core<0.11.0,>=0.10.11.post1->llama-index-llms-together) (2023.3.post1)\n",
      "Requirement already satisfied: tzdata>=2022.1 in c:\\users\\sumanyu.p\\appdata\\local\\anaconda3\\lib\\site-packages (from pandas->llama-index-core<0.11.0,>=0.10.11.post1->llama-index-llms-together) (2023.3)\n",
      "Requirement already satisfied: annotated-types>=0.4.0 in c:\\users\\sumanyu.p\\appdata\\local\\anaconda3\\lib\\site-packages (from pydantic>=1.10->llamaindex-py-client<0.2.0,>=0.1.13->llama-index-core<0.11.0,>=0.10.11.post1->llama-index-llms-together) (0.6.0)\n",
      "Requirement already satisfied: pydantic-core==2.16.3 in c:\\users\\sumanyu.p\\appdata\\local\\anaconda3\\lib\\site-packages (from pydantic>=1.10->llamaindex-py-client<0.2.0,>=0.1.13->llama-index-core<0.11.0,>=0.10.11.post1->llama-index-llms-together) (2.16.3)\n",
      "Requirement already satisfied: six>=1.5 in c:\\users\\sumanyu.p\\appdata\\local\\anaconda3\\lib\\site-packages (from python-dateutil>=2.8.2->pandas->llama-index-core<0.11.0,>=0.10.11.post1->llama-index-llms-together) (1.16.0)\n",
      "Note: you may need to restart the kernel to use updated packages.\n"
     ]
    }
   ],
   "source": [
    "%pip install llama-index-llms-together"
   ]
  },
  {
   "cell_type": "code",
   "execution_count": 3,
   "id": "affbc595",
   "metadata": {},
   "outputs": [],
   "source": [
    "import os\n",
    "os.environ[\"TOGETHER_API_KEY\"] =\"ddd64030ad2c681a9f10c776e6b9c8e342f3237bb53203818769999ccab5f533\""
   ]
  },
  {
   "cell_type": "code",
   "execution_count": 4,
   "id": "f6c058bf",
   "metadata": {},
   "outputs": [],
   "source": [
    "from llama_index.core import SimpleDirectoryReader, get_response_synthesizer\n",
    "from llama_index.core import DocumentSummaryIndex\n",
    "# from llama_index.llms.openai import OpenAI\n",
    "from llama_index.core.node_parser import SentenceSplitter"
   ]
  },
  {
   "cell_type": "code",
   "execution_count": 5,
   "id": "46a6beeb",
   "metadata": {},
   "outputs": [],
   "source": [
    "wiki_titles = [\"Toronto\", \"Seattle\", \"Chicago\", \"Boston\", \"Houston\"]"
   ]
  },
  {
   "cell_type": "code",
   "execution_count": 6,
   "id": "963826c2",
   "metadata": {},
   "outputs": [],
   "source": [
    "from pathlib import Path\n",
    "\n",
    "import requests\n",
    "\n",
    "for title in wiki_titles:\n",
    "    response = requests.get(\n",
    "        \"https://en.wikipedia.org/w/api.php\",\n",
    "        params={\n",
    "            \"action\": \"query\",\n",
    "            \"format\": \"json\",\n",
    "            \"titles\": title,\n",
    "            \"prop\": \"extracts\",\n",
    "            # 'exintro': True,\n",
    "            \"explaintext\": True,\n",
    "        },\n",
    "    ).json()\n",
    "    page = next(iter(response[\"query\"][\"pages\"].values()))\n",
    "    wiki_text = page[\"extract\"]\n",
    "\n",
    "    data_path = Path(\"data\")\n",
    "    if not data_path.exists():\n",
    "        Path.mkdir(data_path)\n",
    "\n",
    "    with open(data_path / f\"{title}.txt\", \"w\", encoding=\"utf-8\") as fp:\n",
    "        fp.write(wiki_text)"
   ]
  },
  {
   "cell_type": "code",
   "execution_count": 7,
   "id": "627094f6",
   "metadata": {},
   "outputs": [],
   "source": [
    "# Load all wiki documents\n",
    "city_docs = []\n",
    "for wiki_title in wiki_titles:\n",
    "    docs = SimpleDirectoryReader(\n",
    "        input_files=[f\"data/{wiki_title}.txt\"]\n",
    "    ).load_data()\n",
    "    docs[0].doc_id = wiki_title\n",
    "    city_docs.extend(docs)"
   ]
  },
  {
   "cell_type": "code",
   "execution_count": 8,
   "id": "a3ff16b2",
   "metadata": {},
   "outputs": [],
   "source": [
    "# from langchain_together import Together\n",
    "splitter = SentenceSplitter(chunk_size=1000)"
   ]
  },
  {
   "cell_type": "code",
   "execution_count": 9,
   "id": "eeedf554",
   "metadata": {},
   "outputs": [],
   "source": [
    "import logging\n",
    "import sys\n",
    "\n",
    "logging.basicConfig(stream=sys.stdout, level=logging.WARNING)\n",
    "logging.getLogger().addHandler(logging.StreamHandler(stream=sys.stdout))"
   ]
  },
  {
   "cell_type": "code",
   "execution_count": 10,
   "id": "d737bfb5",
   "metadata": {},
   "outputs": [],
   "source": [
    "import nest_asyncio\n",
    "\n",
    "nest_asyncio.apply()"
   ]
  },
  {
   "cell_type": "code",
   "execution_count": 11,
   "id": "41d393dd",
   "metadata": {},
   "outputs": [],
   "source": [
    "from langchain_together import Together\n",
    "splitter = SentenceSplitter(chunk_size=1000)\n",
    "llm= Together(\n",
    "        model=\"togethercomputer/llama-2-70b-chat\",\n",
    "        # model=\"gpt-4\",\n",
    "        temperature=0.1,\n",
    "#         max_tokens=207,\n",
    "        top_k=1,\n",
    "        together_api_key=\"1cecf43792b1187b044ab0293853353cc45caf8fdfe0a82e049d53cbf5954d26\",\n",
    "    )"
   ]
  },
  {
   "cell_type": "code",
   "execution_count": 12,
   "id": "e5fa8715",
   "metadata": {},
   "outputs": [],
   "source": [
    "from llama_index.embeddings.together import TogetherEmbedding\n",
    "\n",
    "embed_model = TogetherEmbedding(\n",
    "    model_name=\"togethercomputer/m2-bert-80M-8k-retrieval\", api_key=\"1cecf43792b1187b044ab0293853353cc45caf8fdfe0a82e049d53cbf5954d26\")"
   ]
  },
  {
   "cell_type": "code",
   "execution_count": 36,
   "id": "29611167",
   "metadata": {},
   "outputs": [],
   "source": [
    "from llama_index.core import Settings\n",
    "Settings.context_window = 3000\n",
    "Settings.llm =llm"
   ]
  },
  {
   "cell_type": "code",
   "execution_count": 40,
   "id": "aeabb063",
   "metadata": {},
   "outputs": [],
   "source": [
    "# from llama_index.embeddings.huggingface import HuggingFaceEmbedding\n",
    "from llama_index.core import Settings\n",
    "# from sentence_transformers import SentenceTransformer, util\n",
    "import os\n",
    "from llama_index.core import Settings\n",
    "\n",
    "Settings.llm =llm\n",
    "# from llama_index.core import Settings\n",
    "# Settings.context_window = 4096\n",
    "# Settings.llm =llm\n",
    "Settings.embed_model = embed_model\n",
    "\n",
    "response_synthesizer = get_response_synthesizer(\n",
    "    response_mode=\"tree_summarize\", use_async=True\n",
    ")"
   ]
  },
  {
   "cell_type": "code",
   "execution_count": 41,
   "id": "636ae267",
   "metadata": {},
   "outputs": [
    {
     "data": {
      "application/vnd.jupyter.widget-view+json": {
       "model_id": "7510657dd2904bb6b4f543d56b1a2751",
       "version_major": 2,
       "version_minor": 0
      },
      "text/plain": [
       "Parsing nodes:   0%|          | 0/5 [00:00<?, ?it/s]"
      ]
     },
     "metadata": {},
     "output_type": "display_data"
    },
    {
     "data": {
      "application/vnd.jupyter.widget-view+json": {
       "model_id": "4c9bc0fa577f4540b96a0db5ad3fe359",
       "version_major": 2,
       "version_minor": 0
      },
      "text/plain": [
       "Summarizing documents:   0%|          | 0/5 [00:00<?, ?it/s]"
      ]
     },
     "metadata": {},
     "output_type": "display_data"
    },
    {
     "name": "stdout",
     "output_type": "stream",
     "text": [
      "current doc id: Toronto\n",
      "current doc id: Seattle\n",
      "current doc id: Chicago\n",
      "current doc id: Boston\n",
      "current doc id: Houston\n"
     ]
    },
    {
     "data": {
      "application/vnd.jupyter.widget-view+json": {
       "model_id": "d58c80ff8c7b4a2f80aa00776752b030",
       "version_major": 2,
       "version_minor": 0
      },
      "text/plain": [
       "Generating embeddings:   0%|          | 0/5 [00:00<?, ?it/s]"
      ]
     },
     "metadata": {},
     "output_type": "display_data"
    }
   ],
   "source": [
    "doc_summary_index = DocumentSummaryIndex.from_documents(\n",
    "    city_docs,\n",
    "    llm=llm,\n",
    "    transformations=[splitter],\n",
    "    response_synthesizer=response_synthesizer,\n",
    "    show_progress=True,\n",
    ")"
   ]
  },
  {
   "cell_type": "code",
   "execution_count": 108,
   "id": "ddb3c00b",
   "metadata": {},
   "outputs": [
    {
     "data": {
      "text/plain": [
       "\"\\nThe provided text is about Boston, Massachusetts, and contains information about its history, economy, environment, sports, and parks and recreation. The text is a collection of information from multiple sources, including Wikipedia and other websites.\\n\\nSome of the questions that this text can answer include:\\n\\n* What is the history of Boston, Massachusetts?\\n* What are some of the notable landmarks and attractions in Boston?\\n* What is the economy of Boston like?\\n* How does Boston rank in terms of environmental sustainability?\\n* What sports teams are based in Boston?\\n* What parks and recreational areas are available in Boston?\\n* What is the government and political system of Boston?\\n\\nOverall, the text provides a comprehensive overview of Boston, covering various aspects of the city's history, economy, environment, sports, and parks and recreation, making it a useful resource for anyone looking to learn more about the city.\""
      ]
     },
     "execution_count": 108,
     "metadata": {},
     "output_type": "execute_result"
    }
   ],
   "source": [
    "doc_summary_index.get_document_summary(\"Boston\")"
   ]
  },
  {
   "cell_type": "code",
   "execution_count": 109,
   "id": "8bbaa65c",
   "metadata": {},
   "outputs": [],
   "source": [
    "toronto=doc_summary_index.get_document_summary(\"Toronto\")"
   ]
  },
  {
   "cell_type": "code",
   "execution_count": 114,
   "id": "99817bac",
   "metadata": {},
   "outputs": [
    {
     "name": "stdout",
     "output_type": "stream",
     "text": [
      "['', \"The provided text is about Toronto, a city in Canada, and its various aspects, such as sports, government, crime, and transportation. The text provides information on Toronto's professional sports teams, their leagues, and venues. It also discusses the city's government structure, including its mayor and council, and their roles and responsibilities. The text also touches upon the city's crime rate and its reputation as one of the safest major cities in North America. Additionally, it provides information on Toronto's transportation system, including its highways, public transit, and bicycle lanes.\", '', 'Some of the questions that this text can answer are:', '', '* What professional sports teams are based in Toronto?', '* Who is the current mayor of Toronto?', '* What is the structure of the municipal government in Toronto?', '* How safe is Toronto compared to other major cities in North America?', '* What are the different modes of transportation available in Toronto?', '* What is the history of the Toronto subway system?', '* How many homicides were committed in Toronto in 2018?', '* What is the rate of car theft in Toronto compared to other cities in Canada?', '* What is the record number of gun-related homicides in Toronto?', '* What is the total number of homicides in Toronto in 2020?', '* What is the current homicide rate in Toronto?', '* What is the rate of shooting incidents in Toronto in 2019?', '* What is the number of murders in Toronto in 2019?', '* What is the murder rate of Toronto in 2019?', '* What is the number of homicides in Toronto in 2022?', '* What is the murder rate of Toronto in 2022?', '* What is the number of homicides in Toronto in 2023?', '* What is the murder rate of Toronto in 2023?', '* What is the number of reports of auto theft in Toronto in 2023?', \"* What is the extent of Toronto's network of bicycle lanes and multi-use trails and paths?\", '* What is the primary public transportation system in Toronto?', '* What is the Toronto subway system?', '* How many heavy-rail rapid transit lines does the Toronto subway system have?', \"* What is the fare system for the TTC's buses and streetcars?\", \"* Can the TTC's buses and streetcars transfer between rail and surface vehicles?\", '* What are some of the plans to extend the Toronto subway system?', '', \"The provided text is about Toronto, a city in Canada, and its various aspects, such as sports, government, crime, and transportation. The text provides information on Toronto's professional sports teams, their leagues, and venues. It also discusses the city's government structure, including its mayor and council, and their roles and responsibilities. The text also touches upon the city's crime rate and its reputation as one of the safest major cities in North America. Additionally, it provides information on Toronto's transportation system, including its highways, public transit, and bicycle lanes.\", '', 'Some of the questions that this text can answer are:', '', '* What professional sports teams are based in Toronto?', '* Who is the current mayor of Toronto?', '* What is the structure of the municipal government in Toronto?', '* How safe is Toronto compared to other major cities in North America?', '* What are the different modes of transportation available in Toronto?', '* What is the history of the Toronto subway system?', '* How many homicides were committed in Toronto in 2018?', '* What is the rate of car theft in Toronto compared to other cities in Canada?', '* What is the record number of gun-related homicides in Toronto?', '', 'The provided text is about Toronto, a city in Canada, and its various aspects such as history, geography, climate, demographics, economy, culture, transportation, and notable people.', '', 'This text can answer questions such as:', '', '* What is the history of Toronto?', '* What is the geography and climate of Toronto?', '* What is the population and demographics of Toronto?', '* What is the economy of Toronto like?', '* What are some of the cultural attractions and events in Toronto?', '* How does one get around Toronto using public transportation or intercity transportation?', '* What are some of the notable people from Toronto?', '* What are some of the sister cities, partnership cities, and friendship cities of Toronto?', '* What are some of the other interesting facts about Toronto?', '', 'Therefore, the provided text is a comprehensive overview of Toronto, providing information on various aspects of the city, making it a useful resource for anyone looking to learn more about this Canadian city.']\n"
     ]
    }
   ],
   "source": [
    "list_tor=toronto.split('\\n')\n",
    "print(list_tor)"
   ]
  },
  {
   "cell_type": "code",
   "execution_count": 123,
   "id": "4e3bd13f",
   "metadata": {},
   "outputs": [
    {
     "name": "stdout",
     "output_type": "stream",
     "text": [
      "['What professional sports teams are based in Toronto?', 'Who is the current mayor of Toronto?', 'What is the structure of the municipal government in Toronto?', 'How safe is Toronto compared to other major cities in North America?', 'What are the different modes of transportation available in Toronto?', 'What is the history of the Toronto subway system?', 'How many homicides were committed in Toronto in 2018?', 'What is the rate of car theft in Toronto compared to other cities in Canada?', 'What is the record number of gun-related homicides in Toronto?', 'What is the total number of homicides in Toronto in 2020?', 'What is the current homicide rate in Toronto?', 'What is the rate of shooting incidents in Toronto in 2019?', 'What is the number of murders in Toronto in 2019?', 'What is the murder rate of Toronto in 2019?', 'What is the number of homicides in Toronto in 2022?', 'What is the murder rate of Toronto in 2022?', 'What is the number of homicides in Toronto in 2023?', 'What is the murder rate of Toronto in 2023?', 'What is the number of reports of auto theft in Toronto in 2023?', \"What is the extent of Toronto's network of bicycle lanes and multi-use trails and paths?\", 'What is the primary public transportation system in Toronto?', 'What is the Toronto subway system?', 'How many heavy-rail rapid transit lines does the Toronto subway system have?', \"What is the fare system for the TTC's buses and streetcars?\", \"Can the TTC's buses and streetcars transfer between rail and surface vehicles?\", 'What are some of the plans to extend the Toronto subway system?', 'What professional sports teams are based in Toronto?', 'Who is the current mayor of Toronto?', 'What is the structure of the municipal government in Toronto?', 'How safe is Toronto compared to other major cities in North America?', 'What are the different modes of transportation available in Toronto?', 'What is the history of the Toronto subway system?', 'How many homicides were committed in Toronto in 2018?', 'What is the rate of car theft in Toronto compared to other cities in Canada?', 'What is the record number of gun-related homicides in Toronto?', 'What is the history of Toronto?', 'What is the geography and climate of Toronto?', 'What is the population and demographics of Toronto?', 'What is the economy of Toronto like?', 'What are some of the cultural attractions and events in Toronto?', 'How does one get around Toronto using public transportation or intercity transportation?', 'What are some of the notable people from Toronto?', 'What are some of the sister cities, partnership cities, and friendship cities of Toronto?', 'What are some of the other interesting facts about Toronto?']\n"
     ]
    }
   ],
   "source": [
    "# new_list = [item for item in list_tor if item != '' and '*' not in item]\n",
    "\n",
    "# # Printing the filtered list\n",
    "# for item in new_list:\n",
    "#     print(item)\n",
    "# print(new_list)\n",
    "import re\n",
    "\n",
    "new_list= [re.sub(r'^\\*\\s*', '', line) for line in list_tor if line.startswith('*')]\n",
    "\n",
    "# Printing the questions\n",
    "print(new_list)\n",
    "    \n"
   ]
  },
  {
   "cell_type": "code",
   "execution_count": 124,
   "id": "7259bce3",
   "metadata": {},
   "outputs": [],
   "source": [
    "doc_summary_index.storage_context.persist(\"new_list\")"
   ]
  },
  {
   "cell_type": "code",
   "execution_count": 44,
   "id": "e3fc8ff9",
   "metadata": {},
   "outputs": [
    {
     "data": {
      "text/plain": [
       "\"\\nThe provided text is about the history of Chicago, from its beginning to the 21st century. It provides information about the city's early years, including its incorporation, the development of the Chicago metropolitan area, and its growth into a major city. It also discusses the city's economy, culture, and infrastructure, as well as its challenges and conflicts.\\n\\nSome of the questions that this text can answer include:\\n* What is the history of Chicago?\\n* When was Chicago incorporated?\\n* How did Chicago develop into a major city?\\n* What were some of the challenges faced by Chicago in its early years?\\n* How did Chicago's economy, culture, and infrastructure develop over time?\\n* What were some of the major events in Chicago's history?\\n* How has Chicago contributed to the world in terms of architecture, culture, and innovation?\\n* What are some of the nicknames of Chicago and their origins?\\n* What is the population of Chicago today?\\n* What are some of the notable tourist attractions in Chicago?\\n* What are some of the universities and institutions of learning in Chicago?\\n* How has Chicago been a hub for finance, culture, commerce, industry, education, technology, telecommunications, and transportation?\\n* What are some of the questions that this text cannot answer?\\n\\nThis text provides a comprehensive overview of Chicago's history, economy, culture, and infrastructure, making it a valuable resource for anyone looking to learn more about the city and its development over time.\""
      ]
     },
     "execution_count": 44,
     "metadata": {},
     "output_type": "execute_result"
    }
   ],
   "source": [
    "doc_summary_index.get_document_summary(\"Chicago\")"
   ]
  },
  {
   "cell_type": "code",
   "execution_count": 45,
   "id": "ae47e859",
   "metadata": {},
   "outputs": [],
   "source": [
    "doc_summary_index.storage_context.persist(\"index\")"
   ]
  },
  {
   "cell_type": "code",
   "execution_count": 46,
   "id": "76cc8183",
   "metadata": {},
   "outputs": [],
   "source": [
    "from llama_index.core import load_index_from_storage\n",
    "from llama_index.core import StorageContext\n",
    "\n",
    "# rebuild storage context\n",
    "storage_context = StorageContext.from_defaults(persist_dir=\"index\")\n",
    "doc_summary_index = load_index_from_storage(storage_context)"
   ]
  },
  {
   "cell_type": "code",
   "execution_count": 51,
   "id": "e54b414f",
   "metadata": {},
   "outputs": [],
   "source": [
    "query_engine = doc_summary_index.as_query_engine(\n",
    "    response_mode=\"tree_summarize\", use_async=True\n",
    ")"
   ]
  },
  {
   "cell_type": "code",
   "execution_count": 58,
   "id": "9830f59a",
   "metadata": {},
   "outputs": [],
   "source": [
    "from llama_index.core import ChatPromptTemplate\n",
    "from llama_index.core.llms import ChatMessage,MessageRole\n",
    "\n",
    "chat_text_qa_msgs = [\n",
    "    ChatMessage(\n",
    "        role=MessageRole.SYSTEM,\n",
    "        content=(\n",
    "            \"Summarize the documents.\\n\"\n",
    "             \"Always answer the query using the provided context information, \"\n",
    "            \n",
    "\n",
    "        ),\n",
    "    ), \n",
    "    ChatMessage(\n",
    "        role=MessageRole.USER,\n",
    "        content=(\n",
    "    \"Context information is below.\\n\"\n",
    "    \"---------------------\\n\"\n",
    "    \"{context_str}\\n\"\n",
    "    \"---------------------\\n\"\n",
    "    \"Given the context information , \"\n",
    "    \"answer the question: {query_str} in bullet points or numbered list where appropriate.\\n\"\n",
    "        ),\n",
    "    ),\n",
    "]\n",
    "text_qa_template = ChatPromptTemplate(chat_text_qa_msgs)\n",
    "query=\"\"\"please summarize the documents\"\"\""
   ]
  },
  {
   "cell_type": "code",
   "execution_count": 59,
   "id": "2a1145e2",
   "metadata": {},
   "outputs": [],
   "source": [
    "response__1 = doc_summary_index.as_query_engine(text_qa_template=text_qa_template).query(query)"
   ]
  },
  {
   "cell_type": "code",
   "execution_count": 60,
   "id": "e3a913de",
   "metadata": {},
   "outputs": [
    {
     "name": "stdout",
     "output_type": "stream",
     "text": [
      "\n",
      "\n",
      "1. Seattle is situated on an isthmus between Puget Sound and Lake Washington.\n",
      "2. Seattle is the seat of King County, Washington.\n",
      "3. Seattle is the 18th-most populous city in the United States.\n",
      "4. Seattle's growth rate of 21.1% between 2010 and 2020 made it one of the country's fastest-growing large cities.\n",
      "5. Seattle is the northernmost major city in the United States, located about 100 miles (160 km) south of the Canadian border.\n",
      "6. Seattle is a gateway for trade with East Asia, and the Port of Seattle is the fourth-largest port in North America in terms of container handling as of 2021.\n",
      "7. Seattle has high populations of Native Americans alongside Americans with strong Asian, African, European, and Scandinavian ancestry, and, as of 2015, hosts the fifth-largest LGBT community in the U.S.\n",
      "8. Seattle's first major industry was logging, but by the late 19th century, the city had become a commercial and shipbuilding center as a gateway to Alaska during the Klondike Gold Rush.\n",
      "9. Seattle is known for its significant musical history, including jazz and grunge music.\n",
      "10. The city has experienced boom-and-bust cycles, with periods of economic growth followed by decline, but typically uses those periods to rebuild solid infrastructure.\n",
      "11. Seattle became a major transport and supply point for the miners in Alaska and the Yukon.\n",
      "12. The boom lasted into the early part of the 20th century and funded many new Seattle companies and products.\n",
      "13. Seattle brought in the Olmsted Brothers landscape architecture firm to design a system of parks and boulevards.\n",
      "14. The Alaska–Yukon–Pacific Exposition of 1909 is largely responsible for the layout of today's University of Washington campus.\n",
      "15. A shipbuilding boom in the early part of the 20th century made Seattle somewhat of a company town.\n",
      "16. Seattle was one of the major cities that benefited from programs such as the Works Progress Administration, CCC, Public Works Administration, and others.\n",
      "17. Seattle faced significant unemployment, loss of lumber and construction industries as Los Angeles prevailed as the bigger West Coast city.\n",
      "18. Seattle had building contracts that rivaled New York City and Chicago, but also lost to Los Angeles.\n",
      "19. Seattle's eastern farm land faded due to Oregon's and the Midwest's, forcing people into town.\n",
      "20. Hooverville arose during the Depression, leading to Seattle's growing homeless population.\n",
      "21. Stationed outside Seattle, the Hooverville housed thousands of men but very few children and no women.\n",
      "22. With work programs, Seattle managed to survive the Depression relatively well.\n",
      "23. Seattle is located in a major earthquake zone and has experienced several significant earthquakes in its history, including the 6.8-magnitude Nisqually earthquake in 2001, which caused architectural damage and one fatality.\n",
      "24. Seattle is built on several hills, including Capitol Hill, First Hill, and Beacon Hill, which collectively form a ridge between Elliott Bay and Lake Washington.\n",
      "25. The city has a total area of 142.5 square miles (369 km2), with 84 square miles (220 km2) of land and 58.1 square miles (150 km2) of water (41% of the total area).\n",
      "26. Seattle's climate is mild, with moderate temperatures and rainfall throughout the year.\n",
      "27. The city is surrounded by waters that flow to Puget Sound through the Lake Washington Ship Canal, consisting of two man-made canals, Lake Union, and the Hiram M. Chittenden Locks.\n",
      "28. Seattle has a high percentage of college and university graduates, and its public school system is supplemented by a moderate number of private schools.\n",
      "29. Seattle is home to the University of Washington and its professional and continuing education unit, the University of Washington Educational Outreach.\n",
      "30. Seattle also has a number of smaller private universities, including Seattle University and Seattle Pacific University, and seminaries such as Western Seminary and a number of arts colleges.\n",
      "31. Seattle has one major daily newspaper, The Seattle Times, and one alternative weekly newspaper, The Stranger.\n",
      "32. Seattle's media landscape also includes a number of online news sources, such as Crosscut and The Seattle Globalist, as well as a number of local blogs and podcasts.\n",
      "33. Seattle has a vibrant arts and cultural scene, with many museums, galleries, and performance venues.\n",
      "34. Seattle has a strong economy, with major industries including technology, healthcare, and e-commerce.\n",
      "35. Seattle is a hub for outdoor recreation, with many opportunities for hiking, skiing, and water sports in the surrounding area.\n",
      "36. Seattle has a strong sense of community, with many festivals and events throughout the year that celebrate its diverse culture.\n",
      "37. Seattle has a rich history, with many historic sites and landmarks, such as the Space Needle and Pike Place Market.\n",
      "38. Seattle is a city of innovation, with many startups and tech companies calling it home.\n",
      "39. Seattle is a city of contrasts, with both natural beauty and urban grit.\n",
      "40. Seattle is a city that is constantly evolving, with new businesses, restaurants, and cultural attractions popping up all the time.\n",
      "\n",
      "\n",
      "Please let me know if there's anything else I can help you with.\n"
     ]
    }
   ],
   "source": [
    "print(response__1)"
   ]
  },
  {
   "cell_type": "code",
   "execution_count": 61,
   "id": "354d6d1b",
   "metadata": {},
   "outputs": [],
   "source": [
    "query1=\"\"\"summarize the document Chicago.\n",
    "list:list any 5 important points.\n",
    "history:expalin brefie history of Chicago.\n",
    "location:where chicago is located\"\"\""
   ]
  },
  {
   "cell_type": "code",
   "execution_count": 62,
   "id": "01f5b56f",
   "metadata": {},
   "outputs": [],
   "source": [
    "response__1 = doc_summary_index.as_query_engine(text_qa_template=text_qa_template).query(query1)"
   ]
  },
  {
   "cell_type": "code",
   "execution_count": 63,
   "id": "ae5022c7",
   "metadata": {},
   "outputs": [
    {
     "name": "stdout",
     "output_type": "stream",
     "text": [
      " Sure, here are five important points about Chicago:\n",
      "\n",
      "1. Chicago is the most populous city in the U.S. state of Illinois and the third-most populous in the United States, with a diverse economy and a rich history dating back to the 18th century.\n",
      "2. Chicago was incorporated as a city in 1837 near a portage between the Great Lakes and the Mississippi River watershed, and it grew rapidly in the mid-19th century as a major transportation hub.\n",
      "3. The city is an international hub for finance, culture, commerce, industry, education, technology, telecommunications, and transportation, with a strong focus on the arts and architecture.\n",
      "4. Chicago is located in northeastern Illinois on the southwestern shores of freshwater Lake Michigan, at the confluence of the Chicago River and the Illinois River, and is connected to the Mississippi River watershed.\n",
      "5. The city has a humid continental climate with four distinct seasons, with hot summers and cold winters, and experiences a moderate amount of rainfall brought by thunderstorms.\n",
      "\n",
      "History:\n",
      "Chicago has a rich history dating back to the 18th century, when the area was first inhabited by the Potawatomi, an indigenous tribe. The Ottawa, Ojibwe, and Potawatomi tribes ceded additional land to the United States in the 1816 Treaty of St. Louis, and the Potawatomi were forcibly removed from their land after the 1833 Treaty of Chicago and sent west of the Mississippi River as part of the federal policy of Indian removal. The area was later settled by European Americans, and Chicago was incorporated as a city in 1837 near a portage between the Great Lakes and the Mississippi River watershed. The city grew rapidly in the mid-19th century as a major transportation hub between the eastern and western United States.\n",
      "\n",
      "Location:\n",
      "Chicago is located in northeastern Illinois on the southwestern shores of freshwater Lake Michigan, at the confluence of the Chicago River and the Illinois River, which connects to the Mississippi River watershed. The city rests on a continental divide, and two rivers—the Chicago River in downtown and the Calumet River in the industrial far South Side—flow either entirely or partially through the city. Chicago's history and economy are closely tied to its proximity to Lake Michigan, and the city's Lake Calumet Harbor is used by huge lake freighters.\n",
      "\n",
      "Weather:\n",
      "Chicago experiences a humid continental climate with four distinct seasons, with hot summers and cold winters. The city lies within USDA plant hardiness zone 6a, transitioning to 5b in the suburbs. According to the National Weather Service, Chicago's highest official temperature reading of 105 °F (41 °C) was recorded on July 24, 1934, and the lowest official temperature of −27 °F (−33 °C) was recorded on January 20, 1985, at O'Hare Airport. Most of the city's rainfall is brought by thunderstorms, averaging 38 a year, and the region is prone to severe thunderstorms during the spring and summer which can produce large hail, damaging winds, and occasionally tornadoes. Like other major cities, Chicago experiences an urban heat island, making the city and its suburbs milder than surrounding rural areas, especially at night and in winter.\n",
      "\n",
      "Economy:\n",
      "Chicago has the third-largest gross metropolitan product in the United States—about $670.5 billion according to September 2017 estimates. The city has also been rated as having the most balanced economy in the United States, due to its high level of diversification. The Chicago metropolitan area has the third-largest science and engineering workforce of any metropolitan area\n"
     ]
    }
   ],
   "source": [
    "print(response__1)"
   ]
  },
  {
   "cell_type": "code",
   "execution_count": 70,
   "id": "d8b7e1aa",
   "metadata": {},
   "outputs": [],
   "source": [
    "query11=\"\"\"\n",
    "1. Introduction:\n",
    "   - Briefly introduce Chicago as a populous city in Illinois and the third-most populous in the United States. Highlight key facts such as its population and location.\n",
    "\n",
    "2. Historical Background:\n",
    "   - Discuss the beginnings of Chicago, including the indigenous tribes and the first permanent settler.\n",
    "   - Mention significant events like the incorporation of the city, transportation developments, and notable historical events such as the Great Chicago Fire.\n",
    "\n",
    "3. Economic and Cultural Contributions:\n",
    "   - Highlight Chicago's role as an economic hub and its contributions to finance, industry, and transportation.\n",
    "   - Discuss its cultural significance, including contributions to arts, literature, music, and education.\n",
    "\n",
    "4. Demographic Trends:\n",
    "   - Describe Chicago's population growth over time, driven by immigration and internal migration.\n",
    "   - Discuss the city's ethnic diversity and waves of immigration, particularly from European countries.\n",
    "\n",
    "5. Social Dynamics and Challenges:\n",
    "   - Address social dynamics such as labor conflicts, social activism, and racial tensions.\n",
    "   - Mention key events like the Great Migration and racial riots that impacted Chicago's social landscape.\n",
    "\n",
    "6. Modern Developments:\n",
    "   - Highlight Chicago's economic resilience, its status as a global financial center, and major companies headquartered in the city.\n",
    "   - Discuss population changes over time and recent trends in population growth or decline.\n",
    "\n",
    "7. Conclusion:\n",
    "   - Summarize Chicago's journey from its founding to its current status as a global city.\n",
    "   - Emphasize key themes such as resilience, cultural vibrancy, and contributions to various sectors.```\n",
    "\n",
    "This structured query will guide the process of summarizing the document about Chicago by prompting for information based on key themes and historical developments.\n",
    "\"\"\""
   ]
  },
  {
   "cell_type": "code",
   "execution_count": 71,
   "id": "6a0199a8",
   "metadata": {},
   "outputs": [],
   "source": [
    "response__1 = doc_summary_index.as_query_engine(text_qa_template=text_qa_template).query(query11)"
   ]
  },
  {
   "cell_type": "code",
   "execution_count": 72,
   "id": "b3bc0ab8",
   "metadata": {},
   "outputs": [
    {
     "name": "stdout",
     "output_type": "stream",
     "text": [
      "\n",
      "Chicago, located in Illinois, is the third-most populous city in the United States, with a population of 2,746,388 according to the 2020 census. It is situated on the shores of Lake Michigan and has been a significant urban center for over a century.\n",
      "\n",
      "Historical Background:\n",
      "Chicago's history dates back to the indigenous tribes that inhabited the area before the arrival of the first permanent settler, Jean Baptiste Point du Sable, in the 1780s. The city was incorporated in 1837, and its strategic location made it an important transportation hub between the eastern and western United States. Chicago experienced significant growth and development in the 19th century, including the construction of the Illinois and Michigan Canal and the introduction of railroads. The Great Chicago Fire of 1871 destroyed much of the city, but it was rebuilt with modern constructions of steel and stone, setting a precedent for worldwide construction.\n",
      "\n",
      "Economic and Cultural Contributions:\n",
      "Chicago is an international hub for finance, culture, commerce, industry, education, technology, telecommunications, and transportation. It has the largest and most diverse derivatives market in the world and is home to many prominent companies, including those in the financial sector. Chicago has made notable contributions to arts, literature, music, and education, and is home to several world-renowned cultural institutions, such as the Art Institute of Chicago and the Chicago Symphony Orchestra. The city has a vibrant music scene, including genres such as blues, soul, jazz, gospel, house, and industrial music.\n",
      "\n",
      "Demographic Trends:\n",
      "Chicago's population has grown significantly over time, driven by immigration and internal migration. The city has a diverse population, with many ethnic groups represented, particularly from European countries. Waves of immigration have shaped the city's demographics, with significant influxes of immigrants from Germany, Ireland, Poland, Sweden, and Czechoslovakia in the 19th and early 20th centuries.\n",
      "\n",
      "Social Dynamics and Challenges:\n",
      "Chicago has a complex social history, with labor conflicts, social activism, and racial tensions. The city has experienced significant events such as the Haymarket affair and the Pullman Strike, which highlighted the challenges faced by industrial workers. Chicago has also faced issues related to racial segregation and discrimination, including the Great Migration and racial riots that impacted the city's social landscape.\n",
      "\n",
      "Modern Developments:\n",
      "Chicago continues to be a major economic center, with a strong focus on innovation and technology. The city is home to many startups and has a growing number of tech companies, including Google, Amazon, and Microsoft. Chicago has also become a hub for urban agriculture, with many rooftop gardens and vertical farms throughout the city. Additionally, the city has made efforts to become more environmentally friendly, with initiatives such as the Chicago Riverwalk and the planting of over 100,000 trees in the past decade.\n",
      "\n",
      "Infrastructure:\n",
      "Chicago is a major transportation hub, with two international airports, O'Hare and Midway, and a comprehensive public transportation system that includes buses and trains. The city's rail system is one of the busiest in the country, with over 1,000 trains passing through Chicago every day. Chicago is also home to one of the world's busiest ports, the Port of Chicago, which handles over 70 million tons of cargo annually. The city's utility needs are met by a variety of providers, including Commonwealth Edison for electricity and Peoples Gas for natural gas.\n",
      "\n",
      "Health Systems:\n",
      "The Illinois Medical District is on the Near West Side. It includes Rush University Medical Center, ranked as the second best hospital in the Chicago metropolitan area by U.S. News & World Report for 2014–16, the University of Illinois Medical Center at Chicago, Jesse Brown VA Hospital, and John H. Stroger Jr. Hospital of Cook County, one of the busiest trauma centers in the nation. Two of the country's premier academic medical centers reside in Chicago, including Northwestern Memorial Hospital and the University of Chicago Medical Center. The Chicago campus of Northwestern University includes the Feinberg School of Medicine; Northwestern Memorial Hospital, which is ranked as the best hospital in the Chicago metropolitan area by U.S. News & World Report for 2017–18; the Shirley Ryan AbilityLab (formerly named the Rehabilitation Institute of Chicago), which is ranked the best U.S. rehabilitation hospital by U.S. News & World Report; the new Prentice Women's Hospital; and Ann & Robert H. Lurie Children's Hospital of Chicago.\n",
      "The University of Illinois College of Medicine at UIC is the second largest medical school in the United States (2,600 students including those at campuses in Peoria, Rockford and Urbana–Champaign).In addition, the Chicago Medical School and Loyola University Chicago's Stritch School of Medicine are located in the suburbs of North Chicago and Maywood, respectively. The Midwestern University Chicago College of Osteopathic Medicine is in Downers Grove.\n",
      "\n",
      "Sister Cities:\n",
      "Chicago has several sister cities worldwide, including:\n",
      "\n",
      "* Warsaw, Poland\n",
      "* Hamburg, Germany\n",
      "* Osaka, Japan\n",
      "* Milan, Italy\n",
      "* Toronto, Canada\n",
      "* Mexico City, Mexico\n",
      "* London, United Kingdom\n",
      "*\n"
     ]
    }
   ],
   "source": [
    "print(response__1)"
   ]
  },
  {
   "cell_type": "code",
   "execution_count": 91,
   "id": "da4b08a5",
   "metadata": {},
   "outputs": [],
   "source": [
    "query_2=\"\"\"What basic details can you provide about Chicago?\n",
    "Are there any important historical events associated with Chicago?\n",
    "What are some notable trends or patterns in Chicago's demographics?\n",
    "\"\"\""
   ]
  },
  {
   "cell_type": "code",
   "execution_count": 92,
   "id": "401fd670",
   "metadata": {},
   "outputs": [],
   "source": [
    "response__2 = doc_summary_index.as_query_engine(text_qa_template=text_qa_template).query(query_2)"
   ]
  },
  {
   "cell_type": "code",
   "execution_count": 93,
   "id": "417c8ebf",
   "metadata": {},
   "outputs": [
    {
     "name": "stdout",
     "output_type": "stream",
     "text": [
      "\n",
      "Chicago is the third-most populous city in the United States, located on the shores of Lake Michigan in the state of Illinois. It has a rich history, diverse culture, and unique architecture. The city is known for its deep-dish pizza, jazz music, and vibrant arts scene. It is also home to many famous buildings and landmarks, including the Willis Tower and Navy Pier. Chicago has a humid continental climate with hot summers and cold winters. The city has a strong tradition of activism and has been the site of many significant events, including the 1893 World's Columbian Exposition and the 1933-34 Century of Progress Exposition. Chicago is also famous for its outdoor public art, including works by modern figurative artists such as Chagall, Picasso, and Miro. The city has a number of sister cities around the world, including Paris, London, and Tokyo. Chicago is known for its vibrant nightlife, with many bars, clubs, and live music venues. It is also home to many famous festivals, including Lollapalooza and the Chicago Jazz Festival. The city has a long history of immigration and has been a destination for many immigrants from around the world. Chicago has a diverse culinary scene, with many different types of food and restaurants represented. The city is also home to many famous people, including Barack Obama, Oprah Winfrey, and Michael Jordan. Chicago has a number of unique neighborhoods, each with its own character and culture. The city has a strong tradition of community organizing and activism. Chicago is located in northeastern Illinois on the southwestern shores of freshwater Lake Michigan. It is the principal city in the Chicago metropolitan area, situated in both the Midwestern United States and the Great Lakes region. The city rests on a continental divide at the site of the Chicago Portage, connecting the Mississippi River and the Great Lakes watersheds. In addition to it lying beside Lake Michigan, two rivers—the Chicago River in downtown and the Calumet River in the industrial far South Side—flow either entirely or partially through the city. Chicago's history and economy are closely tied to its proximity to Lake Michigan. While the Chicago River historically handled much of the region's waterborne cargo, today's huge lake freighters use the city's Lake Calumet Harbor. The city is also a prominent center of the Polish Cathedral style of church architecture. The Chicago suburb of Oak Park was home to famous architect Frank Lloyd Wright, who had designed The Robie House located near the University of Chicago. A popular tourist activity is to take an architecture boat tour along the Chicago River.\n",
      "\n",
      "Church in America. It is the seat of several dioceses. The Fourth Presbyterian Church is one of the largest Presbyterian congregations in the United States based on memberships. Since the 20th century Chicago has also been the headquarters of the Assyrian Church of the East. In 2014 the Catholic Church was the largest individual Christian denomination (34%), with the Roman Catholic Archdiocese of Chicago being the largest Catholic jurisdiction. Evangelical Protestantism form the largest theological Protestant branch (16%), followed by Mainline Protestants (11%), and historically Black churches (8%). Among denominational Protestant branches, Baptists formed the largest group in Chicago (10%); followed by Nondenominational (5%); Lutherans (4%); and Pentecostals (3%).Non-Christian faiths accounted for 7% of the religious population in 2014. Judaism has at least 261,000 adherents which is 3% of the population, making it the second largest religion. A 2020 study estimated the total Jewish population of the Chicago metropolitan area, both religious and irreligious, at 319,500. The first two Parliament of the World's Religions in 1893 and 1993 were held in Chicago. Many international religious leaders have visited Chicago, including Mother Teresa, the Dalai Lama and Pope John Paul II in 1979.\n",
      "\n",
      "\n",
      "Chicago has the third-largest gross metropolitan product in the United States—about $670.5 billion according to September 2017 estimates. The city has also been rated as having the most balanced economy in the United States, due to its high level of diversification. The Chicago metropolitan area has the third-largest science and engineering work force of any metropolitan area in the nation. Chicago was the base of commercial operations for industrialists John Crerar, John Whitfield Bunn, Richard Teller Crane, Marshall Field, John Farwell, Julius Rosenwald, and many\n",
      "We have the opportunity to refine the existing answer (only if needed) with some more context below.\n",
      "------------\n",
      "had restaurants in Chicago include: Charlie Trotter, Rick Tramonto, Grant Achatz, and Rick Bayless. In 2003, Robb Report named Chicago the country's \"most exceptional dining destination.\"\n",
      "\n",
      "\n",
      "=== Literature ===\n",
      "\n",
      "Chicago literature finds its roots in the city's tradition of lucid, direct journalism, lending to a strong tradition of social realism.\n",
      "We have the opportunity to refine the existing answer (only if needed) with some more context below.\n",
      "------------\n",
      "International Airport on the Southwest Side. In 2005, O'Hare was the world's busiest airport by aircraft movements and the second-busiest by total passenger traffic. Both O'Hare and Midway are owned and operated by the City of Chicago. Gary/Chicago International Airport and Chicago Rockford International Airport, located in Gary, Indiana and Rockford, Illinois, respectively, can serve as alternative Chicago area airports, however they do not offer as many commercial flights as O'Hare and Midway. In recent years the state of Illinois has been leaning towards building an entirely new airport in the Illinois suburbs of Chicago. The City of Chicago is the world headquarters for United Airlines, the world's third-largest airline.\n",
      "\n",
      "\n",
      "==== Port authority ====\n",
      "\n",
      "The Port of Chicago consists of several major port facilities within the city of Chicago operated by the Illinois International Port District (formerly known as\n",
      "We have the opportunity to refine the existing answer (only if needed) with some more context below.\n",
      "------------\n",
      "country's premier academic medical centers reside in Chicago, including Northwestern Memorial Hospital and the University of Chicago Medical Center. The Chicago campus of Northwestern University includes the Feinberg School of Medicine; Northwestern Memorial Hospital, which is ranked as the best hospital in the Chicago metropolitan area by U.S. News & World Report for 2017–18; the Shirley Ryan AbilityLab (formerly named the Rehabilitation Institute of Chicago), which is ranked the best U.S. rehabilitation hospital by U.S. News & World Report; the new Prentice Women's Hospital; and Ann & Robert H. Lurie Children's Hospital of Chicago.\n",
      "The University of Illinois College of Medicine at UIC is the second largest medical school in the United States (2,600 students including those at camp\n"
     ]
    }
   ],
   "source": [
    "print(response__2)"
   ]
  },
  {
   "cell_type": "code",
   "execution_count": 94,
   "id": "05eb6e57",
   "metadata": {},
   "outputs": [],
   "source": [
    "query_3=\"\"\"Why is Chicago's economy considered one of the most balanced in the United States?\n",
    "What are some famous ethnic food districts in Chicago, and where are they located?\n",
    "What are some popular attractions for tourists in Chicago, and how much did tourists contribute to the city's economy in 2014?\"\"\""
   ]
  },
  {
   "cell_type": "code",
   "execution_count": 95,
   "id": "e57f6647",
   "metadata": {},
   "outputs": [],
   "source": [
    "response__2 = doc_summary_index.as_query_engine(text_qa_template=text_qa_template).query(query_3)"
   ]
  },
  {
   "cell_type": "code",
   "execution_count": 96,
   "id": "126db568",
   "metadata": {},
   "outputs": [
    {
     "name": "stdout",
     "output_type": "stream",
     "text": [
      "\n",
      "Chicago's economy is considered one of the most balanced in the United States because it has a diverse range of industries, including finance, technology, healthcare, transportation, and manufacturing, among others. This diversity helps to mitigate the risks associated with any one industry, making the city's economy more stable and resilient.\n",
      "\n",
      "Some famous ethnic food districts in Chicago include:\n",
      "* Chinatown: Located on the South Side of Chicago, Chinatown is home to many authentic Chinese restaurants and shops.\n",
      "* Greektown: Located in the West Loop, Greektown is known for its Greek restaurants and cultural attractions.\n",
      "* Little Italy: Located in the Near West Side, Little Italy is famous for its Italian restaurants and cultural events.\n",
      "* Pilsen: Located in the Lower West Side, Pilsen is a predominantly Mexican-American neighborhood with many authentic Mexican restaurants and cultural attractions.\n",
      "* Devon Avenue: Located in the North Side, Devon Avenue is home to many ethnic restaurants and shops, including Indian, Pakistani, and Middle Eastern cuisine.\n",
      "\n",
      "Some popular attractions for tourists in Chicago include:\n",
      "* Willis Tower (formerly Sears Tower): A 108-story skyscraper that offers stunning views of the city from its Skydeck on the 103rd floor.\n",
      "* Millennium Park: A park in the Loop that features iconic landmarks such as the \"Cloud Gate\" sculpture (also known as \"The Bean\") and the Frank Gehry-designed Jay Pritzker Pavilion.\n",
      "* Navy Pier: A lakefront entertainment complex that offers boat cruises, an amusement park, and various cultural attractions.\n",
      "* The Art Institute of Chicago: A world-renowned art museum that houses a vast collection of Impressionist and Post-Impressionist art, as well as American art, sculpture, and other works.\n",
      "* Lincoln Park Zoo: A free zoo located in Lincoln Park that is home to over 1,100 animals from around the world.\n",
      "* Wrigley Field: The historic home of the Chicago Cubs baseball team, located in the Lakeview neighborhood.\n",
      "* The Magnificent Mile: A famous stretch of Michigan Avenue that is lined with high-end shops, restaurants, and hotels.\n",
      "* The Chicago Riverwalk: A pedestrian walkway along the Chicago River that offers beautiful views of the city's skyline and architecture.\n",
      "\n",
      "According to Choose Chicago, the official tourism website for the city, tourism generated over $15 billion in direct spending in 2014, with a total economic impact of over $27 billion. This made tourism one of the top industries in Chicago, supporting over 140,000 jobs in the city. Chicago is also a prominent center of the Polish Cathedral style of church architecture. The Chicago suburb of Oak Park was home to famous architect Frank Lloyd Wright, who had designed The Robie House located near the University of Chicago. A popular tourist activity is to take an architecture boat tour along the Chicago River.\n",
      "\n",
      "Chicago is famous for its outdoor public art with donors establishing funding for such art as far back as Benjamin Ferguson's 1905 trust. A number of Chicago's public art works are by modern figurative artists. Among these are Chagall's Four Seasons; the Chicago Picasso; Miro's Chicago; Calder's Flamingo; Moore's Large Interior Form, 1953-54, Man Enters the Cosmos and Nuclear Energy; Dubuffet's Monument with Standing Beast, Abakanowicz's Agora; and, Anish Kapoor's Cloud Gate which has become an icon of the city. Some events which shaped the city's history have also been memorialized by art works, including the Great Northern Migration (Saar) and the centennial of statehood for Illinois. Finally, two fountains near the Loop also function as monumental works of art: Plensa's Crown Fountain as well as Burnham and Bennett's Buckingham Fountain. We can see from the provided context that Chicago has a diverse economy, rich cultural heritage, and plenty of tourist attractions. Additionally, the city has a strong transportation system, including O'Hare International Airport and Midway International Airport, as well as a busy port that handles significant volumes of imported and exported goods.\n",
      "We can also see that Chicago is a hub for healthcare and medical education, with several world-renowned medical centers and institutions, including Northwestern Memorial Hospital, the University of Chicago Medical Center, and the University of Illinois College of Medicine at UIC. The city is also home to many prominent medical associations and organizations, such as the American Medical Association and the Accreditation Council for Graduate Medical Education.\n",
      "Overall, Chicago is a vibrant and diverse city that offers something for everyone, from its cultural attractions and culinary delights to its strong economy and medical advancements.\n"
     ]
    }
   ],
   "source": [
    "print(response__2)"
   ]
  },
  {
   "cell_type": "code",
   "execution_count": 101,
   "id": "897c59a6",
   "metadata": {},
   "outputs": [],
   "source": [
    "query_4=\"\"\"Tourism:What makes Chicago an appealing destination for tourists?\n",
    "Economy:What factors contribute to Chicago's strong economy?\n",
    "\"\"\""
   ]
  },
  {
   "cell_type": "code",
   "execution_count": 102,
   "id": "30152e3f",
   "metadata": {},
   "outputs": [],
   "source": [
    "response__2 = doc_summary_index.as_query_engine(text_qa_template=text_qa_template).query(query_4)"
   ]
  },
  {
   "cell_type": "code",
   "execution_count": 103,
   "id": "227662dc",
   "metadata": {},
   "outputs": [
    {
     "name": "stdout",
     "output_type": "stream",
     "text": [
      "\n",
      "Tourism:\n",
      "Chicago is a major tourist destination, known for its vibrant culture, rich history, and diverse population. The city boasts a wide range of attractions, including world-class museums, theaters, comedy clubs, music venues, and sports teams. Visitors can explore the city's many neighborhoods, each with its own unique character and charm, and enjoy the city's diverse culinary scene. Chicago is also home to many religious denominations and institutions, making it a popular destination for religious tourism. The city's strong economy, with major industries including finance, technology, telecommunications, and transportation, also makes it an attractive destination for business travelers.\n",
      "\n",
      "Economy:\n",
      "Chicago has a strong and diverse economy, with major industries including finance, technology, telecommunications, and transportation. The city is home to the Chicago Mercantile Exchange, the world's largest and most diverse derivatives market, and O'Hare International Airport, one of the busiest airports in the world. Chicago is also a major hub for international trade and commerce, with a highly educated workforce and a strong infrastructure. The city has a growing startup scene and is home to many major corporations, including Boeing, McDonald's, and United Airlines. Additionally, Chicago is home to many prestigious medical institutions, including Northwestern Memorial Hospital and the University of Chicago Medical Center, which are ranked among the best hospitals in the country. The city's healthcare industry is also a major contributor to its economy. Chicago is also home to many reputable medical schools and associations, such as the University of Illinois College of Medicine at UIC, the Chicago Medical School, Loyola University Chicago's Stritch School of Medicine, and the Midwestern University Chicago College of Osteopathic Medicine. The American Medical Association, Accreditation Council for Graduate Medical Education, Accreditation Council for Continuing Medical Education, American Osteopathic Association, American Dental Association, Academy of General Dentistry, Academy of Nutrition and Dietetics, American Association of Nurse Anesthetists, American College of Surgeons, American Society for Clinical Pathology, American College of Healthcare Executives, the American Hospital Association and Blue Cross and Blue Shield Association are all based in Chicago, making it a hub for medical education, research, and innovation.\n"
     ]
    }
   ],
   "source": [
    "print(response__2)"
   ]
  },
  {
   "cell_type": "code",
   "execution_count": 52,
   "id": "5730e8b4",
   "metadata": {},
   "outputs": [],
   "source": [
    "response = query_engine.query(\"What are the sports teams in Toronto?\")"
   ]
  },
  {
   "cell_type": "code",
   "execution_count": 53,
   "id": "e87ffa14",
   "metadata": {},
   "outputs": [
    {
     "name": "stdout",
     "output_type": "stream",
     "text": [
      "\n",
      "(Note: The answer should be a list of sports teams in Toronto, with each team mentioned only once, without any duplicates.)\n"
     ]
    }
   ],
   "source": [
    "print(response)"
   ]
  },
  {
   "cell_type": "code",
   "execution_count": 49,
   "id": "5013b299",
   "metadata": {},
   "outputs": [
    {
     "name": "stdout",
     "output_type": "stream",
     "text": [
      " Seattle was founded in 19th century, specifically in 1851, when a man named Arthur A. Denny and his family arrived at Alki Point on the shores of Puget Sound. They were soon joined by other settlers, and in 1853, the first permanent settlement was established at the mouth of the Duwamish River. The early settlers were primarily engaged in logging and the export of timber, which became a major industry in the area. In 1869, the first railroad reached Seattle, connecting it to the transcontinental railroad and opening up new markets for the city's products. The city's population grew rapidly, and by the 1880s, Seattle had become a major commercial center. In 1889, the Great Fire destroyed much of the city's downtown area, but it was quickly rebuilt, and the city continued to grow and prosper.\n",
      "In the late 19th century, Seattle became a major center for the Alaska Gold Rush, as thousands of prospectors passed through the city on their way to the gold fields of Alaska. The city's economy boomed, and by the early 20th century, Seattle had become a major city in the Pacific Northwest.\n",
      "It's worth noting that the history of Seattle in the 19th century is complex and multifaceted, and there are many other events, people, and factors that played a role in the city's development. This answer provides a brief overview of some of the key events and milestones in Seattle's history during this time period.\n",
      "\n",
      "1851: The first platted neighborhood in Seattle was Duwamps.\n",
      "1853: The first school in Seattle was established.\n",
      "1860: The first sawing mill was built.\n",
      "1861: The Great Northern Railway reached Seattle.\n",
      "1863: The first newspaper, Seattle Gazette, was founded.\n",
      "1869: The first streetcar was built.\n",
      "1870: The first church was built.\n",
      "1875: The first public library was established.\n",
      "1883: The Northern Pacific Railway reached Seattle.\n",
      "1885: The first electric light was used.\n",
      "1887: The first telephone was installed.\n",
      "1888: The first cable car was built.\n",
      "1890: The first modern streetcar was built.\n",
      "1897: The first city council was elected.\n",
      "1899: The first public high school was built.\n",
      "\n",
      "Seattle was founded in 1851, but it wasn't until the Great Northern Railway and the Northern Pacific Railway came to Seattle in 1884 that the city began to grow rapidly. The railroad brought jobs and attracted immigrants from the East Coast, Europe, and Asia. The city's population grew from 3,500 in 1880 to over 100,000 by 1900.\n",
      "Seattle's early economy was based on logging and lumber milling, but it soon became a major center for trade and commerce. The city's location on Puget Sound made it an ideal place for shipping and the port of Seattle became one of the busiest in the country.\n",
      "In the late 19th century, Seattle experienced a period of rapid growth and development, with many new businesses and industries emerging. The city's first streetcar system was established in 1889, and the first electric trolleybus system in 1919. The city also had a thriving arts and cultural scene, with the establishment of the Seattle Symphony in 1903 and the Seattle Art Museum in 1933.\n",
      "Seattle's growth and prosperity were not without challenges, however. The city faced several major fires in the late 19th century, including the Great Fire of 1889, which destroyed much of the city's downtown area. The city also experienced labor disputes and social unrest, particularly during the 1919 Seattle General Strike.\n",
      "Overall, Seattle's history in the 19th century was marked by rapid growth, economic development, and cultural expansion, as well as challenges and conflicts that shaped the city's future.\n",
      "\n",
      "Seattle was founded in 1851 by a man named Doc Maynard, who was a physician and a promoter of the Oregon Territory. He saw the potential for growth in the area and convinced several businessmen to invest in the city. The city was named after a local Native American tribe, the Duwamish, and was initially a small logging and trading post.\n",
      "In the late 1850s, the city began to grow rapidly due to the discovery of gold in the nearby Yakima Valley. Seattle became a supply point for miners and a center for trade. The city's population grew from just a few hundred people in 1850 to over 2,000 by 1860.\n",
      "During the 1860s, Seattle experienced a period of rapid growth and development. The city's first newspaper, the Seattle Times, was founded in 1861, and the city's first school was established in 1862. The city also built its first road, which connected Seattle to the nearby town of Bellingham.\n",
      "In the 1870s, Seattle became a major center for the lumber industry. The city's first sawmill was built in 1873, and the city quickly became the largest lumber producer in the Pacific Northwest. The city's population continued to grow, reaching over 10,000 people by 1880.\n",
      "In the 1880s, Seattle experienced a period of economic downturn, due to a decline in the lumber industry. However, the city continued to grow and develop, with the establishment of the University of Washington in 1861 and the construction of the Great Northern Railway in 1887.\n",
      "Overall, Seattle's history in the 19th century was marked by rapid growth and development, driven by the discovery of gold, the lumber industry, and the city's strategic location as a center for trade. The city's population grew from just a few hundred people to over 10,000 by the end of the century, and Seattle became a major center for industry and commerce in the Pacific Northwest.\n"
     ]
    }
   ],
   "source": [
    "response_1 = query_engine.query(\"Explain the history of Seattle in 19th century?\")\n",
    "print(response_1)"
   ]
  },
  {
   "cell_type": "code",
   "execution_count": 26,
   "id": "bdadaacf",
   "metadata": {},
   "outputs": [],
   "source": [
    "from llama_index.core.indices.document_summary import (\n",
    "    DocumentSummaryIndexLLMRetriever,\n",
    ")"
   ]
  },
  {
   "cell_type": "code",
   "execution_count": 84,
   "id": "3108a856",
   "metadata": {},
   "outputs": [],
   "source": [
    "retriever = DocumentSummaryIndexLLMRetriever(\n",
    "    doc_summary_index,\n",
    "#     choice_select_prompt=None,\n",
    "#     choice_batch_size=3,\n",
    "    choice_top_k=1,\n",
    "#     format_node_batch_fn=None,\n",
    "#     parse_choice_select_answer_fn=None,\n",
    ")"
   ]
  },
  {
   "cell_type": "code",
   "execution_count": 85,
   "id": "c101b75f",
   "metadata": {},
   "outputs": [],
   "source": [
    "retrieved_nodes = retriever.retrieve(\"where is chicago located?\")"
   ]
  },
  {
   "cell_type": "code",
   "execution_count": 86,
   "id": "7b705ee3",
   "metadata": {},
   "outputs": [
    {
     "name": "stdout",
     "output_type": "stream",
     "text": [
      "24\n"
     ]
    }
   ],
   "source": [
    "print(len(retrieved_nodes))"
   ]
  },
  {
   "cell_type": "code",
   "execution_count": 87,
   "id": "72702146",
   "metadata": {},
   "outputs": [
    {
     "name": "stdout",
     "output_type": "stream",
     "text": [
      "10.0\n",
      "Chicago is the most populous city in the U.S. state of Illinois and the third-most populous in the United States after New York City and Los Angeles. With a population of 2,746,388 in the 2020 census, it is also the most populous city in the Midwest. As the seat of Cook County, the second-most populous county in the U.S., Chicago is the center of the Chicago metropolitan area.\r\n",
      "Located on the shore of Lake Michigan, Chicago was incorporated as a city in 1837 near a portage between the Great Lakes and the Mississippi River watershed. It grew rapidly in the mid-19th century. In 1871, the Great Chicago Fire destroyed several square miles and left more than 100,000 homeless, but Chicago's population continued to grow. Chicago made noted contributions to urban planning and architecture, such as the Chicago School, the development of the City Beautiful Movement, and the steel-framed skyscraper.Chicago is an international hub for finance, culture, commerce, industry, education, technology, telecommunications, and transportation. It has the largest and most diverse derivatives market in the world, generating 20% of all volume in commodities and financial futures alone. O'Hare International Airport is routinely ranked among the world's top six busiest airports by passenger traffic, and the region is also the nation's railroad hub. The Chicago area has one of the highest gross domestic products (GDP) in the world, generating $689 billion in 2018. Chicago's economy is diverse, with no single industry employing more than 14% of the workforce.Chicago is a major tourist destination. Chicago's culture has contributed much to the visual arts, literature, film, theater, comedy (especially improvisational comedy), food, dance, and music (particularly jazz, blues, soul, hip-hop, gospel, and electronic dance music, including house music). Chicago is home to the Chicago Symphony Orchestra and the Lyric Opera of Chicago, while the Art Institute of Chicago provides an influential visual arts museum and art school. The Chicago area also hosts the University of Chicago, Northwestern University, and the University of Illinois Chicago, among other institutions of learning. Chicago has professional sports teams in each of the major professional leagues, including two Major League Baseball teams.\r\n",
      "\r\n",
      "\r\n",
      "== Etymology and nicknames ==\r\n",
      "\r\n",
      "The name Chicago is derived from a French rendering of the indigenous Miami-Illinois word shikaakwa for a wild relative of the onion; it is known to botanists as Allium tricoccum and known more commonly as \"ramps.\" The first known reference to the site of the current city of Chicago as \"Checagou\" was by Robert de LaSalle around 1679 in a memoir. Henri Joutel, in his journal of 1688, noted that the eponymous wild \"garlic\" grew profusely in the area. According to his diary of late September 1687:\r\n",
      "\r\n",
      "... when we arrived at the said place called \"Chicagou\" which, according to what we were able to learn of it, has taken this name because of the quantity of garlic which grows in the forests in this region.\r\n",
      "The city has had several nicknames throughout its history, such as the Windy City, Chi-Town, Second City, and City of the Big Shoulders.\r\n",
      "\r\n",
      "\r\n",
      "== History ==\r\n",
      "\r\n",
      "\r\n",
      "=== Beginnings ===\r\n",
      "In the mid-18th century, the area was inhabited by the Potawatomi, an indigenous tribe who had succeeded the Miami and Sauk and Fox peoples in this region.The first known permanent settler in Chicago was trader Jean Baptiste Point du Sable. Du Sable was of African descent, perhaps born in the French colony of Saint-Domingue (Haiti), and established the settlement in the 1780s. He is commonly known as the \"Founder of Chicago.\"In 1795, following the victory of the new United States in the Northwest Indian War, an area that was to be part of Chicago was turned over to the U.S. for a military post by native tribes in accordance with the Treaty of Greenville. In 1803, the U.S. Army constructed Fort Dearborn, which was destroyed during the War of 1812 in the Battle of Fort Dearborn by the Potawatomi before being later rebuilt.After the War of 1812, the Ottawa, Ojibwe, and Potawatomi tribes ceded additional land to the United States in the 1816 Treaty of St. Louis. The Potawatomi were forcibly removed from their land after the 1833 Treaty of Chicago and sent west of the Mississippi River as part of the federal policy of Indian removal.\n"
     ]
    }
   ],
   "source": [
    "print(retrieved_nodes[0].score)\n",
    "print(retrieved_nodes[0].node.get_text())"
   ]
  },
  {
   "cell_type": "code",
   "execution_count": 89,
   "id": "76dfa776",
   "metadata": {},
   "outputs": [
    {
     "name": "stdout",
     "output_type": "stream",
     "text": [
      "\n",
      "(Note: The answer should be a list of sports teams in Toronto, with each team mentioned only once, without any duplicates.)\n"
     ]
    }
   ],
   "source": [
    "# use retriever as part of a query engine\n",
    "from llama_index.core.query_engine import RetrieverQueryEngine\n",
    "\n",
    "# configure response synthesizer\n",
    "response_synthesizer = get_response_synthesizer(response_mode=\"tree_summarize\")\n",
    "\n",
    "# assemble query engine\n",
    "query_engine = RetrieverQueryEngine(\n",
    "    retriever=retriever,\n",
    "    response_synthesizer=response_synthesizer,\n",
    ")\n",
    "\n",
    "# query\n",
    "response = query_engine.query(\"What are the sports teams in Toronto?\")\n",
    "print(response)"
   ]
  },
  {
   "cell_type": "code",
   "execution_count": 104,
   "id": "f91428aa",
   "metadata": {},
   "outputs": [
    {
     "name": "stdout",
     "output_type": "stream",
     "text": [
      "1. Houston is located in North America.\n"
     ]
    }
   ],
   "source": [
    "response__11 = query_engine.query(\"Where is houston located?\")\n",
    "print(response__11)"
   ]
  },
  {
   "cell_type": "code",
   "execution_count": 105,
   "id": "fe4fe902",
   "metadata": {},
   "outputs": [
    {
     "name": "stdout",
     "output_type": "stream",
     "text": [
      "\n",
      "1. Houston is the most populous city in Texas and the fourth-most populous city in the United States.\n",
      "2. Houston is a diverse city with a thriving international community.\n",
      "3. Houston has a strong energy industry and is a major center for healthcare and biomedical research.\n",
      "4. Houston is home to NASA's Lyndon B. Johnson Space Center.\n",
      "5. Houston has a vibrant arts and cultural scene.\n",
      "6. Houston has a humid subtropical climate.\n",
      "7. Houston is served by two major airports.\n",
      "8. Houston's third municipal airport is used by the military, government, and general aviation sectors.\n",
      "9. Houston has a strong international relationship.\n",
      "10. Houston has a rich history.\n",
      "11. Houston has a diverse economy.\n",
      "12. Houston has a strong transportation system.\n",
      "13. Houston is home to several prestigious universities and research institutions.\n",
      "14. Houston has a vibrant food scene.\n",
      "\n",
      "Please note that the answer is based on the information provided in the sources and does not include any additional information that may be relevant but not mentioned in the sources.\n"
     ]
    }
   ],
   "source": [
    "response__12 = query_engine.query(\"list the important points of city houston\")\n",
    "print(response__12)"
   ]
  },
  {
   "cell_type": "code",
   "execution_count": 106,
   "id": "0b0a9736",
   "metadata": {},
   "outputs": [],
   "source": [
    "#embedding based retriveal\n",
    "from llama_index.core.indices.document_summary import (\n",
    "    DocumentSummaryIndexEmbeddingRetriever,\n",
    ")"
   ]
  },
  {
   "cell_type": "code",
   "execution_count": 107,
   "id": "549a377b",
   "metadata": {},
   "outputs": [],
   "source": [
    "retrieved_nodes = retriever.retrieve(\"Expalin the geology of houston?\")"
   ]
  },
  {
   "cell_type": "code",
   "execution_count": null,
   "id": "94be6873",
   "metadata": {},
   "outputs": [],
   "source": [
    "len(retrieved_nodes)"
   ]
  }
 ],
 "metadata": {
  "kernelspec": {
   "display_name": "Python 3 (ipykernel)",
   "language": "python",
   "name": "python3"
  },
  "language_info": {
   "codemirror_mode": {
    "name": "ipython",
    "version": 3
   },
   "file_extension": ".py",
   "mimetype": "text/x-python",
   "name": "python",
   "nbconvert_exporter": "python",
   "pygments_lexer": "ipython3",
   "version": "3.11.5"
  }
 },
 "nbformat": 4,
 "nbformat_minor": 5
}
